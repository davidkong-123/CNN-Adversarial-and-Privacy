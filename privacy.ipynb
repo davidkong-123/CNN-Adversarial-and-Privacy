{
  "cells": [
    {
      "cell_type": "code",
      "execution_count": 1,
      "metadata": {
        "id": "j8Smbp5HSowF"
      },
      "outputs": [],
      "source": [
        "## Studnet ID: 20759072\n",
        "\n",
        "\n",
        "## question 3 a\n",
        "import numpy as np\n",
        "\n",
        "\n",
        "## hyperparam\n",
        "\n",
        "n = 50\n",
        "dimension_list = [x+10 for x in range(491)]\n",
        "mean, sigma = 0, 1 # mean and standard deviation\n",
        "\n"
      ]
    },
    {
      "cell_type": "code",
      "execution_count": 2,
      "metadata": {
        "id": "kQve4-MhHnxy"
      },
      "outputs": [],
      "source": [
        "## for each dimension, we have X, Y and mu\n",
        "\n",
        "dataset_dimension = []\n",
        "\n",
        "\n",
        "for dimension in dimension_list:\n",
        "  # print(dimension)\n",
        "  X_data = []\n",
        "  Y_data = []\n",
        "  mu = np.zeros(dimension)\n",
        "  for i in range(n):\n",
        "    x_i = np.random.normal(mean, sigma, dimension)\n",
        "    y_i = np.random.normal(mean, sigma, dimension)\n",
        "    X_data.append(x_i)\n",
        "    Y_data.append(y_i)\n",
        "    mu = np.add(mu, x_i)  \n",
        "  mu = mu / n\n",
        "  dimension_data = [X_data, Y_data, mu]\n",
        "  dataset_dimension.append(dimension_data)\n"
      ]
    },
    {
      "cell_type": "code",
      "execution_count": 3,
      "metadata": {
        "colab": {
          "base_uri": "https://localhost:8080/"
        },
        "id": "J1VYI9h2Ps4G",
        "outputId": "aefceb8a-4265-49e9-946a-71f8b4968eca"
      },
      "outputs": [
        {
          "output_type": "stream",
          "name": "stdout",
          "text": [
            "50\n"
          ]
        }
      ],
      "source": [
        "print(len(dataset_dimension[0][0]))"
      ]
    },
    {
      "cell_type": "code",
      "execution_count": 4,
      "metadata": {
        "id": "clXsZCBFL8_B"
      },
      "outputs": [],
      "source": [
        "threadshold_list = []\n",
        "accuracy_in_dimension = []\n",
        "\n",
        "def find_threadshold(X_dataset, Y_dataset, mu):\n",
        "  possible_threadshold = []\n",
        "\n",
        "  Z_dataset = X_dataset + Y_dataset\n",
        "  # print(\"len of Z:\" , len(Z_dataset))\n",
        "  # print(\"dimension of Z:\" , len(Z_dataset[0]))\n",
        "  for data in Z_dataset:\n",
        "    possible_threadshold.append(np.dot(data, mu))\n",
        "\n",
        "  best_count =0\n",
        "  best_threadshold = -1\n",
        "\n",
        "  for threadshold in possible_threadshold:\n",
        "    count_correct = 0\n",
        "    for i in range(len(Z_dataset)):\n",
        "      z_data = Z_dataset[i]\n",
        "      if np.dot(z_data, mu) >= threadshold and i < 50 or np.dot(z_data, mu) < threadshold and i >= 50:\n",
        "        count_correct += 1\n",
        "    if count_correct > best_count:\n",
        "      best_count = count_correct\n",
        "      best_threadshold = threadshold\n",
        "  # print(best_threadshold)\n",
        "  return best_threadshold, best_count / 100\n",
        "\n",
        "\n",
        "for dataset in dataset_dimension:\n",
        "  threadshold, accuracy = find_threadshold(dataset[0], dataset[1], dataset[2])\n",
        "  accuracy_in_dimension.append(accuracy)\n",
        "  # print(threadshold)\n",
        "  threadshold_list.append(threadshold)"
      ]
    },
    {
      "cell_type": "code",
      "execution_count": 5,
      "metadata": {
        "id": "13s89nt2Q9pP"
      },
      "outputs": [],
      "source": [
        "# print(threadshold)"
      ]
    },
    {
      "cell_type": "code",
      "execution_count": 6,
      "metadata": {
        "colab": {
          "base_uri": "https://localhost:8080/",
          "height": 279
        },
        "id": "glFO4vG5QbfM",
        "outputId": "39f5c3c7-cd0c-4d9a-a114-4fb96904f90d"
      },
      "outputs": [
        {
          "output_type": "display_data",
          "data": {
            "text/plain": [
              "<Figure size 432x288 with 1 Axes>"
            ],
            "image/png": "[encoded data removed]"
          },
          "metadata": {
            "needs_background": "light"
          }
        }
      ],
      "source": [
        "import matplotlib.pyplot as plt\n",
        "\n",
        "plt.plot(dimension_list, accuracy_in_dimension)\n",
        "plt.xlabel('Dimension')\n",
        "plt.ylabel('Accuracy')\n",
        "# plt.axis([10, 500, 0, 1])\n",
        "\n",
        "plt.show()\n",
        "\n"
      ]
    },
    {
      "cell_type": "code",
      "source": [
        "## Generate new data and plot\n",
        "## for each dimension, we have X, Y and mu\n",
        "\n",
        "## Used hreadshold_list \n",
        "\n",
        "# dataset_dimension = []\n",
        "new_data_accuracy = []\n",
        "\n",
        "def find_accuracy(X_dataset, Y_dataset, mu, threadshold):\n",
        "  # possible_threadshold = []\n",
        "\n",
        "  Z_dataset = X_dataset + Y_dataset\n",
        "\n",
        "  count_correct = 0\n",
        "  for i in range(len(Z_dataset)):\n",
        "    z_data = Z_dataset[i]\n",
        "    if np.dot(z_data, mu) >= threadshold and i < 50 or np.dot(z_data, mu) < threadshold and i >= 50:\n",
        "      count_correct += 1\n",
        "\n",
        "  return count_correct / 100\n",
        "\n",
        "\n",
        "for i in range(len(dimension_list)):\n",
        "  dimension = dimension_list[i]\n",
        "  # print(i)\n",
        "  cur_threadshold = threadshold_list[i]\n",
        "  # print(dimension)\n",
        "  X_data = []\n",
        "  Y_data = []\n",
        "  mu = np.zeros(dimension)\n",
        "  for i in range(n):\n",
        "    x_i = np.random.normal(mean, sigma, dimension)\n",
        "    y_i = np.random.normal(mean, sigma, dimension)\n",
        "    X_data.append(x_i)\n",
        "    Y_data.append(y_i)\n",
        "    mu = np.add(mu, x_i)  \n",
        "  mu = mu / n\n",
        "  new_data_accuracy.append(find_accuracy(X_data, Y_data, mu, cur_threadshold))\n",
        "\n",
        "\n"
      ],
      "metadata": {
        "id": "ee66LClUQ77B"
      },
      "execution_count": 7,
      "outputs": []
    },
    {
      "cell_type": "code",
      "source": [
        "import matplotlib.pyplot as plt\n",
        "\n",
        "plt.plot(dimension_list, new_data_accuracy)\n",
        "plt.xlabel('Dimension')\n",
        "plt.ylabel('Accuracy')\n",
        "# plt.axis([10, 500, 0, 1])\n",
        "\n",
        "plt.show()\n",
        "\n"
      ],
      "metadata": {
        "colab": {
          "base_uri": "https://localhost:8080/",
          "height": 279
        },
        "id": "BKa7qdIbVeJK",
        "outputId": "1e0e5e38-c8b2-45c7-fa38-425d0b8d3a33"
      },
      "execution_count": 8,
      "outputs": [
        {
          "output_type": "display_data",
          "data": {
            "text/plain": [
              "<Figure size 432x288 with 1 Axes>"
            ],
            "image/png": "[encoded data removed]"
          },
          "metadata": {
            "needs_background": "light"
          }
        }
      ]
    },
    {
      "cell_type": "code",
      "execution_count": 32,
      "metadata": {
        "colab": {
          "base_uri": "https://localhost:8080/"
        },
        "id": "ZFZlEOzDTpxM",
        "outputId": "2c853f0a-48eb-47d3-df56-5ebe67631734"
      },
      "outputs": [
        {
          "output_type": "stream",
          "name": "stdout",
          "text": [
            "0\n",
            "100\n",
            "200\n",
            "300\n",
            "400\n",
            "500\n",
            "600\n",
            "700\n",
            "800\n",
            "900\n"
          ]
        }
      ],
      "source": [
        "dataset_50d = dataset_dimension[40]\n",
        "\n",
        "X_data_var = dataset_50d[0]\n",
        "Y_data_var = dataset_50d[1]\n",
        "mu_var = dataset_50d[2]\n",
        "\n",
        "variance_list = [0.1 * (x+1) for x in range(10)]\n",
        "# print(variance_list)\n",
        "\n",
        "best_acc = [0 for i in range(10)]\n",
        "mu_with_different_variance_cum = np.zeros(10)\n",
        "\n",
        "for i in range(1000):\n",
        "  if i % 100 == 0:\n",
        "    print(i)\n",
        "\n",
        "  mu_with_different_variance = []\n",
        "\n",
        "  for variance in variance_list:\n",
        "    var = np.random.normal(mean, sigma * variance, 50)\n",
        "    temp_mu = np.add(mu_var, var)\n",
        "    mu_with_different_variance.append(temp_mu)\n",
        "\n",
        "  # var_accuracy_list = []\n",
        "  # count = 0\n",
        "  for k in range(len(mu_with_different_variance)):\n",
        "    mu_each_var = mu_with_different_variance[k]\n",
        "\n",
        "    _, var_accuracy = find_threadshold(X_data_var, Y_data_var, mu_each_var)\n",
        "    # print(k)\n",
        "    best_acc[k] += var_accuracy\n",
        "    l2_mu_approx = np.linalg.norm(mu_each_var, ord=2)\n",
        "    # print(l2_mu_approx)\n",
        "    mu_with_different_variance_cum[k] = mu_with_different_variance_cum[k] + l2_mu_approx\n",
        "\n",
        "  # var_accuracy_list.append(var_accuracy"
      ]
    },
    {
      "cell_type": "code",
      "source": [
        "print(best_acc)"
      ],
      "metadata": {
        "colab": {
          "base_uri": "https://localhost:8080/"
        },
        "id": "sgPkbEVZ_tiG",
        "outputId": "89e3047f-9aa4-46af-e870-264e99cf5226"
      },
      "execution_count": 31,
      "outputs": [
        {
          "output_type": "stream",
          "name": "stdout",
          "text": [
            "[1.48, 1.5, 1.4, 1.41, 1.27, 1.3599999999999999, 1.3399999999999999, 1.29, 1.21, 1.27]\n"
          ]
        }
      ]
    },
    {
      "cell_type": "code",
      "execution_count": 33,
      "metadata": {
        "colab": {
          "base_uri": "https://localhost:8080/",
          "height": 541
        },
        "id": "Eybm6jx2WqdR",
        "outputId": "a9fa36ff-1e31-4bfc-a129-32e8dcaf7277"
      },
      "outputs": [
        {
          "output_type": "display_data",
          "data": {
            "text/plain": [
              "<Figure size 432x288 with 1 Axes>"
            ],
            "image/png": "[encoded data removed]"
          },
          "metadata": {
            "needs_background": "light"
          }
        },
        {
          "output_type": "display_data",
          "data": {
            "text/plain": [
              "<Figure size 432x288 with 1 Axes>"
            ],
            "image/png": "[encoded data removed]"
          },
          "metadata": {
            "needs_background": "light"
          }
        }
      ],
      "source": [
        "\n",
        "best_acc_plot = [x/1000 for x in best_acc]\n",
        "mu_with_different_variance_cum_plot = [x/1000 for x in mu_with_different_variance_cum]\n",
        "\n",
        "\n",
        "plt.plot(variance_list, mu_with_different_variance_cum_plot)\n",
        "plt.xlabel('Variance')\n",
        "plt.ylabel('l2 norm of mu approx')\n",
        "# plt.axis([10, 500, 0, 1])\n",
        "\n",
        "plt.show()\n",
        "\n",
        "plt.plot(variance_list, best_acc_plot)\n",
        "plt.xlabel('Variance')\n",
        "plt.ylabel('Accuracy')\n",
        "# plt.axis([10, 500, 0, 1])\n",
        "\n",
        "plt.show()\n"
      ]
    },
    {
      "cell_type": "code",
      "source": [
        "from tensorflow.keras import layers, Model, Sequential\n",
        "from tensorflow import keras\n",
        "import tensorflow\n",
        "import tensorflow as tf\n",
        "import numpy as np\n",
        "from tensorflow.keras.layers import Dense, Dropout, Flatten, Activation, Conv2D, MaxPooling2D\n",
        "from tensorflow.keras.layers import GaussianNoise\n",
        "\n",
        "(x_train_sk, y_train_sk), (x_test_sk, y_test_sk) = keras.datasets.fashion_mnist.load_data()\n",
        "\n",
        "x_train_sk = x_train_sk.astype(\"float32\") / 255\n",
        "x_test_sk = x_test_sk.astype(\"float32\") / 255\n",
        "\n",
        "\n",
        "\n",
        "x_train_sk = x_train_sk.reshape(60000, 28*28)\n",
        "x_test_sk = x_test_sk.reshape(10000, 28*28)\n",
        "\n"
      ],
      "metadata": {
        "colab": {
          "base_uri": "https://localhost:8080/"
        },
        "id": "i-girkiZOkvN",
        "outputId": "ab741b0c-29f6-471e-ba20-a61c770fd289"
      },
      "execution_count": 12,
      "outputs": [
        {
          "output_type": "stream",
          "name": "stdout",
          "text": [
            "Downloading data from https://storage.googleapis.com/tensorflow/tf-keras-datasets/train-labels-idx1-ubyte.gz\n",
            "32768/29515 [=================================] - 0s 0us/step\n",
            "40960/29515 [=========================================] - 0s 0us/step\n",
            "Downloading data from https://storage.googleapis.com/tensorflow/tf-keras-datasets/train-images-idx3-ubyte.gz\n",
            "26427392/26421880 [==============================] - 0s 0us/step\n",
            "26435584/26421880 [==============================] - 0s 0us/step\n",
            "Downloading data from https://storage.googleapis.com/tensorflow/tf-keras-datasets/t10k-labels-idx1-ubyte.gz\n",
            "16384/5148 [===============================================================================================] - 0s 0us/step\n",
            "Downloading data from https://storage.googleapis.com/tensorflow/tf-keras-datasets/t10k-images-idx3-ubyte.gz\n",
            "4423680/4422102 [==============================] - 0s 0us/step\n",
            "4431872/4422102 [==============================] - 0s 0us/step\n"
          ]
        }
      ]
    },
    {
      "cell_type": "code",
      "source": [
        "print(len(y_train_sk))"
      ],
      "metadata": {
        "colab": {
          "base_uri": "https://localhost:8080/"
        },
        "id": "vsrh1A7kapbZ",
        "outputId": "0354dcea-66aa-4032-b205-5ebe77b10d17"
      },
      "execution_count": 13,
      "outputs": [
        {
          "output_type": "stream",
          "name": "stdout",
          "text": [
            "60000\n"
          ]
        }
      ]
    },
    {
      "cell_type": "code",
      "source": [
        "print(y_train_sk[0])"
      ],
      "metadata": {
        "colab": {
          "base_uri": "https://localhost:8080/"
        },
        "id": "1_O3uomWcF-9",
        "outputId": "8a8b8c70-0483-44c2-edc7-bd8085b0a04b"
      },
      "execution_count": 14,
      "outputs": [
        {
          "output_type": "stream",
          "name": "stdout",
          "text": [
            "9\n"
          ]
        }
      ]
    },
    {
      "cell_type": "code",
      "source": [
        "from sklearn.linear_model import LogisticRegression\n",
        "\n",
        "number_data = [100, 200, 400, 800, 1600, 2500, 5000, 10000]\n",
        "training_accuracy_list = []\n",
        "test_accuracy_list = []\n",
        "regression_model_list = []\n",
        "\n",
        "for n in number_data:\n",
        "  print(n)\n",
        "  selected_x_train = x_train_sk[:n]\n",
        "  selected_y_train = y_train_sk[:n]\n",
        "  \n",
        "  selected_x_test = x_test_sk[:n]\n",
        "  selected_y_test = y_test_sk[:n]\n",
        "\n",
        "  # print(selected_x_train[0])\n",
        "\n",
        "  LogisticRegr_u = LogisticRegression(penalty=\"none\")\n",
        "  LogisticRegr_u.fit(selected_x_train, selected_y_train)\n",
        "\n",
        "  score_test = LogisticRegr_u.score(selected_x_test, selected_y_test)\n",
        "  score_train = LogisticRegr_u.score(selected_x_train, selected_y_train)\n",
        "\n",
        "  training_accuracy_list.append(score_train)\n",
        "  test_accuracy_list.append(score_test)\n",
        "  regression_model_list.append(LogisticRegr_u)\n",
        "\n",
        "\n",
        "\n"
      ],
      "metadata": {
        "colab": {
          "base_uri": "https://localhost:8080/"
        },
        "id": "copBBuJ6ax9K",
        "outputId": "9f47f0b0-0e0e-440c-aad5-412b00a9465e"
      },
      "execution_count": 15,
      "outputs": [
        {
          "output_type": "stream",
          "name": "stdout",
          "text": [
            "100\n",
            "200\n",
            "400\n",
            "800\n",
            "1600\n"
          ]
        },
        {
          "output_type": "stream",
          "name": "stderr",
          "text": [
            "/usr/local/lib/python3.7/dist-packages/sklearn/linear_model/_logistic.py:818: ConvergenceWarning: lbfgs failed to converge (status=1):\n",
            "STOP: TOTAL NO. of ITERATIONS REACHED LIMIT.\n",
            "\n",
            "Increase the number of iterations (max_iter) or scale the data as shown in:\n",
            "    https://scikit-learn.org/stable/modules/preprocessing.html\n",
            "Please also refer to the documentation for alternative solver options:\n",
            "    https://scikit-learn.org/stable/modules/linear_model.html#logistic-regression\n",
            "  extra_warning_msg=_LOGISTIC_SOLVER_CONVERGENCE_MSG,\n"
          ]
        },
        {
          "output_type": "stream",
          "name": "stdout",
          "text": [
            "2500\n"
          ]
        },
        {
          "output_type": "stream",
          "name": "stderr",
          "text": [
            "/usr/local/lib/python3.7/dist-packages/sklearn/linear_model/_logistic.py:818: ConvergenceWarning: lbfgs failed to converge (status=1):\n",
            "STOP: TOTAL NO. of ITERATIONS REACHED LIMIT.\n",
            "\n",
            "Increase the number of iterations (max_iter) or scale the data as shown in:\n",
            "    https://scikit-learn.org/stable/modules/preprocessing.html\n",
            "Please also refer to the documentation for alternative solver options:\n",
            "    https://scikit-learn.org/stable/modules/linear_model.html#logistic-regression\n",
            "  extra_warning_msg=_LOGISTIC_SOLVER_CONVERGENCE_MSG,\n"
          ]
        },
        {
          "output_type": "stream",
          "name": "stdout",
          "text": [
            "5000\n"
          ]
        },
        {
          "output_type": "stream",
          "name": "stderr",
          "text": [
            "/usr/local/lib/python3.7/dist-packages/sklearn/linear_model/_logistic.py:818: ConvergenceWarning: lbfgs failed to converge (status=1):\n",
            "STOP: TOTAL NO. of ITERATIONS REACHED LIMIT.\n",
            "\n",
            "Increase the number of iterations (max_iter) or scale the data as shown in:\n",
            "    https://scikit-learn.org/stable/modules/preprocessing.html\n",
            "Please also refer to the documentation for alternative solver options:\n",
            "    https://scikit-learn.org/stable/modules/linear_model.html#logistic-regression\n",
            "  extra_warning_msg=_LOGISTIC_SOLVER_CONVERGENCE_MSG,\n"
          ]
        },
        {
          "output_type": "stream",
          "name": "stdout",
          "text": [
            "10000\n"
          ]
        },
        {
          "output_type": "stream",
          "name": "stderr",
          "text": [
            "/usr/local/lib/python3.7/dist-packages/sklearn/linear_model/_logistic.py:818: ConvergenceWarning: lbfgs failed to converge (status=1):\n",
            "STOP: TOTAL NO. of ITERATIONS REACHED LIMIT.\n",
            "\n",
            "Increase the number of iterations (max_iter) or scale the data as shown in:\n",
            "    https://scikit-learn.org/stable/modules/preprocessing.html\n",
            "Please also refer to the documentation for alternative solver options:\n",
            "    https://scikit-learn.org/stable/modules/linear_model.html#logistic-regression\n",
            "  extra_warning_msg=_LOGISTIC_SOLVER_CONVERGENCE_MSG,\n"
          ]
        }
      ]
    },
    {
      "cell_type": "code",
      "source": [
        "import matplotlib.pyplot as plt\n",
        "\n",
        "plt.plot(number_data, training_accuracy_list, label='Train data')\n",
        "plt.plot(number_data, test_accuracy_list, label='Test data')\n",
        "\n",
        "plt.legend(loc='best')\n",
        "\n",
        "\n",
        "plt.xlabel('Number of data')\n",
        "plt.ylabel('Accuracy')\n",
        "\n",
        "plt.show()"
      ],
      "metadata": {
        "colab": {
          "base_uri": "https://localhost:8080/",
          "height": 279
        },
        "id": "P8S03IDhd5Hi",
        "outputId": "bb2cab25-2905-4fb3-e5a5-c3c3dcb88a01"
      },
      "execution_count": 16,
      "outputs": [
        {
          "output_type": "display_data",
          "data": {
            "text/plain": [
              "<Figure size 432x288 with 1 Axes>"
            ],
            "image/png": "[encoded data removed]"
          },
          "metadata": {
            "needs_background": "light"
          }
        }
      ]
    },
    {
      "cell_type": "code",
      "source": [
        "from sklearn.linear_model import LogisticRegression\n",
        "\n",
        "number_data = [100, 200, 400, 800, 1600, 2500, 5000, 10000]\n",
        "training_accuracy_list = []\n",
        "test_accuracy_list = []\n",
        "regression_model_list_regular = []\n",
        "\n",
        "\n",
        "\n",
        "for n in number_data:\n",
        "  print(n)\n",
        "  selected_x_train = x_train_sk[:n]\n",
        "  selected_y_train = y_train_sk[:n]\n",
        "\n",
        "  selected_x_test = x_test_sk[:n]\n",
        "  selected_y_test = y_test_sk[:n]\n",
        "\n",
        "  print(selected_y_train[0].shape)\n",
        "  LogisticRegr_r = LogisticRegression(penalty=\"l2\", C=0.01)\n",
        "  LogisticRegr_r.fit(selected_x_train, selected_y_train)\n",
        "\n",
        "  score_test = LogisticRegr_r.score(selected_x_test, selected_y_test)\n",
        "  score_train = LogisticRegr_r.score(selected_x_train, selected_y_train)\n",
        "  training_accuracy_list.append(score_train)\n",
        "  test_accuracy_list.append(score_test)\n",
        "  regression_model_list_regular.append(LogisticRegr_r)\n",
        "\n",
        "\n",
        "\n"
      ],
      "metadata": {
        "colab": {
          "base_uri": "https://localhost:8080/"
        },
        "id": "5QwFQB-khBcp",
        "outputId": "d3aed1e5-cfd2-47c4-8fba-3a44497f63fb"
      },
      "execution_count": 17,
      "outputs": [
        {
          "output_type": "stream",
          "name": "stdout",
          "text": [
            "100\n",
            "()\n",
            "200\n",
            "()\n",
            "400\n",
            "()\n"
          ]
        },
        {
          "output_type": "stream",
          "name": "stderr",
          "text": [
            "/usr/local/lib/python3.7/dist-packages/sklearn/linear_model/_logistic.py:818: ConvergenceWarning: lbfgs failed to converge (status=1):\n",
            "STOP: TOTAL NO. of ITERATIONS REACHED LIMIT.\n",
            "\n",
            "Increase the number of iterations (max_iter) or scale the data as shown in:\n",
            "    https://scikit-learn.org/stable/modules/preprocessing.html\n",
            "Please also refer to the documentation for alternative solver options:\n",
            "    https://scikit-learn.org/stable/modules/linear_model.html#logistic-regression\n",
            "  extra_warning_msg=_LOGISTIC_SOLVER_CONVERGENCE_MSG,\n"
          ]
        },
        {
          "output_type": "stream",
          "name": "stdout",
          "text": [
            "800\n",
            "()\n"
          ]
        },
        {
          "output_type": "stream",
          "name": "stderr",
          "text": [
            "/usr/local/lib/python3.7/dist-packages/sklearn/linear_model/_logistic.py:818: ConvergenceWarning: lbfgs failed to converge (status=1):\n",
            "STOP: TOTAL NO. of ITERATIONS REACHED LIMIT.\n",
            "\n",
            "Increase the number of iterations (max_iter) or scale the data as shown in:\n",
            "    https://scikit-learn.org/stable/modules/preprocessing.html\n",
            "Please also refer to the documentation for alternative solver options:\n",
            "    https://scikit-learn.org/stable/modules/linear_model.html#logistic-regression\n",
            "  extra_warning_msg=_LOGISTIC_SOLVER_CONVERGENCE_MSG,\n"
          ]
        },
        {
          "output_type": "stream",
          "name": "stdout",
          "text": [
            "1600\n",
            "()\n"
          ]
        },
        {
          "output_type": "stream",
          "name": "stderr",
          "text": [
            "/usr/local/lib/python3.7/dist-packages/sklearn/linear_model/_logistic.py:818: ConvergenceWarning: lbfgs failed to converge (status=1):\n",
            "STOP: TOTAL NO. of ITERATIONS REACHED LIMIT.\n",
            "\n",
            "Increase the number of iterations (max_iter) or scale the data as shown in:\n",
            "    https://scikit-learn.org/stable/modules/preprocessing.html\n",
            "Please also refer to the documentation for alternative solver options:\n",
            "    https://scikit-learn.org/stable/modules/linear_model.html#logistic-regression\n",
            "  extra_warning_msg=_LOGISTIC_SOLVER_CONVERGENCE_MSG,\n"
          ]
        },
        {
          "output_type": "stream",
          "name": "stdout",
          "text": [
            "2500\n",
            "()\n"
          ]
        },
        {
          "output_type": "stream",
          "name": "stderr",
          "text": [
            "/usr/local/lib/python3.7/dist-packages/sklearn/linear_model/_logistic.py:818: ConvergenceWarning: lbfgs failed to converge (status=1):\n",
            "STOP: TOTAL NO. of ITERATIONS REACHED LIMIT.\n",
            "\n",
            "Increase the number of iterations (max_iter) or scale the data as shown in:\n",
            "    https://scikit-learn.org/stable/modules/preprocessing.html\n",
            "Please also refer to the documentation for alternative solver options:\n",
            "    https://scikit-learn.org/stable/modules/linear_model.html#logistic-regression\n",
            "  extra_warning_msg=_LOGISTIC_SOLVER_CONVERGENCE_MSG,\n"
          ]
        },
        {
          "output_type": "stream",
          "name": "stdout",
          "text": [
            "5000\n",
            "()\n"
          ]
        },
        {
          "output_type": "stream",
          "name": "stderr",
          "text": [
            "/usr/local/lib/python3.7/dist-packages/sklearn/linear_model/_logistic.py:818: ConvergenceWarning: lbfgs failed to converge (status=1):\n",
            "STOP: TOTAL NO. of ITERATIONS REACHED LIMIT.\n",
            "\n",
            "Increase the number of iterations (max_iter) or scale the data as shown in:\n",
            "    https://scikit-learn.org/stable/modules/preprocessing.html\n",
            "Please also refer to the documentation for alternative solver options:\n",
            "    https://scikit-learn.org/stable/modules/linear_model.html#logistic-regression\n",
            "  extra_warning_msg=_LOGISTIC_SOLVER_CONVERGENCE_MSG,\n"
          ]
        },
        {
          "output_type": "stream",
          "name": "stdout",
          "text": [
            "10000\n",
            "()\n"
          ]
        },
        {
          "output_type": "stream",
          "name": "stderr",
          "text": [
            "/usr/local/lib/python3.7/dist-packages/sklearn/linear_model/_logistic.py:818: ConvergenceWarning: lbfgs failed to converge (status=1):\n",
            "STOP: TOTAL NO. of ITERATIONS REACHED LIMIT.\n",
            "\n",
            "Increase the number of iterations (max_iter) or scale the data as shown in:\n",
            "    https://scikit-learn.org/stable/modules/preprocessing.html\n",
            "Please also refer to the documentation for alternative solver options:\n",
            "    https://scikit-learn.org/stable/modules/linear_model.html#logistic-regression\n",
            "  extra_warning_msg=_LOGISTIC_SOLVER_CONVERGENCE_MSG,\n"
          ]
        }
      ]
    },
    {
      "cell_type": "code",
      "source": [
        "import matplotlib.pyplot as plt\n",
        "\n",
        "plt.plot(number_data, training_accuracy_list, label='Train data')\n",
        "plt.plot(number_data, test_accuracy_list, label='Test data')\n",
        "\n",
        "plt.legend(loc='best')\n",
        "\n",
        "\n",
        "plt.xlabel('Number of data')\n",
        "plt.ylabel('Accuracy')\n",
        "\n",
        "plt.show()"
      ],
      "metadata": {
        "colab": {
          "base_uri": "https://localhost:8080/",
          "height": 279
        },
        "id": "rKHDI3lKh0Zo",
        "outputId": "53aeee8e-e033-426e-d42a-2557e3c89384"
      },
      "execution_count": 18,
      "outputs": [
        {
          "output_type": "display_data",
          "data": {
            "text/plain": [
              "<Figure size 432x288 with 1 Axes>"
            ],
            "image/png": "[encoded data removed]"
          },
          "metadata": {
            "needs_background": "light"
          }
        }
      ]
    },
    {
      "cell_type": "code",
      "source": [
        "## Have regression_model_list_regular and regression_model_list\n",
        "\n",
        "\n",
        "regular_attack_accuracy = []\n",
        "attack_accuracy = []\n",
        "\n",
        "for i in range(len(number_data)):\n",
        "  n = number_data[i]\n",
        "  selected_x_train = x_train_sk[:n]\n",
        "  selected_y_train = y_train_sk[:n]\n",
        "\n",
        "  selected_x_test = x_test_sk[:n]\n",
        "  selected_y_test = y_test_sk[:n]\n",
        "\n",
        "  selected_moded_normal = regression_model_list[i]\n",
        "  selected_moded_regular = regression_model_list_regular[i]\n",
        "\n",
        "  normal_pred_train = selected_moded_normal.score(selected_x_train,selected_y_train)\n",
        "  normal_pred_test = selected_moded_normal.score(selected_x_test,selected_y_test)\n",
        "\n",
        "  normal_attack = (normal_pred_train + (1-normal_pred_test)) / 2\n",
        "\n",
        "  attack_accuracy.append(normal_attack)\n",
        "\n",
        "  regular_pred_train = selected_moded_regular.score(selected_x_train,selected_y_train)\n",
        "  regular_pred_test = selected_moded_regular.score(selected_x_test,selected_y_test)\n",
        "\n",
        "  regular_attack = (regular_pred_train + (1-regular_pred_test)) / 2\n",
        "\n",
        "  regular_attack_accuracy.append(regular_attack)\n",
        "\n",
        "\n",
        "\n",
        "\n"
      ],
      "metadata": {
        "id": "oenKqQ73kLv0"
      },
      "execution_count": 19,
      "outputs": []
    },
    {
      "cell_type": "code",
      "source": [
        "print(attack_accuracy)\n",
        "print(regular_attack_accuracy)"
      ],
      "metadata": {
        "colab": {
          "base_uri": "https://localhost:8080/"
        },
        "id": "qkz-pG5t75d1",
        "outputId": "9ac6cedf-9115-4426-c885-6f75e91a96e4"
      },
      "execution_count": 20,
      "outputs": [
        {
          "output_type": "stream",
          "name": "stdout",
          "text": [
            "[0.655, 0.6375, 0.6074999999999999, 0.621875, 0.6021875, 0.5902000000000001, 0.5681, 0.5318]\n",
            "[0.62, 0.5700000000000001, 0.53625, 0.53625, 0.5215624999999999, 0.5174000000000001, 0.5199, 0.5127999999999999]\n"
          ]
        }
      ]
    },
    {
      "cell_type": "code",
      "source": [
        "import matplotlib.pyplot as plt\n",
        "\n",
        "plt.plot(number_data, attack_accuracy, label='Unregular attack')\n",
        "plt.plot(number_data, regular_attack_accuracy, label='Regular attack')\n",
        "\n",
        "plt.legend(loc='best')\n",
        "\n",
        "\n",
        "plt.xlabel('Number of data')\n",
        "plt.ylabel('Accuracy')\n",
        "\n",
        "plt.show()"
      ],
      "metadata": {
        "colab": {
          "base_uri": "https://localhost:8080/",
          "height": 280
        },
        "id": "4rgOOIeO4sIc",
        "outputId": "73fa4186-b66f-4fa6-b030-fb6d53da9eab"
      },
      "execution_count": 21,
      "outputs": [
        {
          "output_type": "display_data",
          "data": {
            "text/plain": [
              "<Figure size 432x288 with 1 Axes>"
            ],
            "image/png": "[encoded data removed]"
          },
          "metadata": {
            "needs_background": "light"
          }
        }
      ]
    },
    {
      "cell_type": "code",
      "source": [
        "n = 400\n",
        "variance_list = [x * 0.25 for x in range(21)]\n",
        "\n",
        "selected_x_train = x_train_sk[:n]\n",
        "selected_y_train = y_train_sk[:n]\n",
        "\n",
        "selected_x_test = x_test_sk[:n]\n",
        "selected_y_test = y_test_sk[:n]\n",
        "\n",
        "normal_model_list_with_sigma = []\n",
        "regular_model_list_with_sigma = []\n",
        "\n",
        "accuracy_with_sgima_normal_train = []\n",
        "accuracy_with_sgima_normal_test = []\n",
        "\n",
        "accuracy_with_sgima_regular_train = []\n",
        "accuracy_with_sgima_regular_test = []\n",
        "\n",
        "\n",
        "\n",
        "for variance in variance_list:\n",
        "\n",
        "  LogisticRegr = LogisticRegression(penalty=\"none\")\n",
        "  LogisticRegr.fit(selected_x_train, selected_y_train)\n",
        "\n",
        "  LogisticRegr_r = LogisticRegression(penalty=\"l2\", C=0.01)\n",
        "  LogisticRegr_r.fit(selected_x_train, selected_y_train)\n",
        "\n",
        "  for i in range(10):\n",
        "    noise_1 = np.random.normal(0, variance, 784)\n",
        "    LogisticRegr.coef_[i] = np.add(LogisticRegr.coef_[i], noise_1)\n",
        "\n",
        "    noise_2 = np.random.normal(0, variance, 784)\n",
        "    LogisticRegr_r.coef_[i] = np.add(LogisticRegr_r.coef_[i], noise_2)\n",
        "  \n",
        "  normal_model_list_with_sigma.append(LogisticRegr)\n",
        "  regular_model_list_with_sigma.append(LogisticRegr_r)\n",
        "\n",
        "  score_test = LogisticRegr.score(selected_x_test, selected_y_test)\n",
        "  score_train = LogisticRegr.score(selected_x_train, selected_y_train)\n",
        "\n",
        "  accuracy_with_sgima_normal_train.append(score_train)\n",
        "  accuracy_with_sgima_normal_test.append(score_test)\n",
        "\n",
        "  score_test = LogisticRegr_r.score(selected_x_test, selected_y_test)\n",
        "  score_train = LogisticRegr_r.score(selected_x_train, selected_y_train)\n",
        "\n",
        "  accuracy_with_sgima_regular_train.append(score_train)\n",
        "  accuracy_with_sgima_regular_test.append(score_test)\n",
        "\n",
        "\n",
        "\n",
        "\n",
        "\n",
        "  \n"
      ],
      "metadata": {
        "colab": {
          "base_uri": "https://localhost:8080/"
        },
        "id": "X_b3QU8F-GT2",
        "outputId": "17dcfad1-aea5-4cfd-d91d-afa18be67d3d"
      },
      "execution_count": 22,
      "outputs": [
        {
          "output_type": "stream",
          "name": "stderr",
          "text": [
            "/usr/local/lib/python3.7/dist-packages/sklearn/linear_model/_logistic.py:818: ConvergenceWarning: lbfgs failed to converge (status=1):\n",
            "STOP: TOTAL NO. of ITERATIONS REACHED LIMIT.\n",
            "\n",
            "Increase the number of iterations (max_iter) or scale the data as shown in:\n",
            "    https://scikit-learn.org/stable/modules/preprocessing.html\n",
            "Please also refer to the documentation for alternative solver options:\n",
            "    https://scikit-learn.org/stable/modules/linear_model.html#logistic-regression\n",
            "  extra_warning_msg=_LOGISTIC_SOLVER_CONVERGENCE_MSG,\n",
            "/usr/local/lib/python3.7/dist-packages/sklearn/linear_model/_logistic.py:818: ConvergenceWarning: lbfgs failed to converge (status=1):\n",
            "STOP: TOTAL NO. of ITERATIONS REACHED LIMIT.\n",
            "\n",
            "Increase the number of iterations (max_iter) or scale the data as shown in:\n",
            "    https://scikit-learn.org/stable/modules/preprocessing.html\n",
            "Please also refer to the documentation for alternative solver options:\n",
            "    https://scikit-learn.org/stable/modules/linear_model.html#logistic-regression\n",
            "  extra_warning_msg=_LOGISTIC_SOLVER_CONVERGENCE_MSG,\n",
            "/usr/local/lib/python3.7/dist-packages/sklearn/linear_model/_logistic.py:818: ConvergenceWarning: lbfgs failed to converge (status=1):\n",
            "STOP: TOTAL NO. of ITERATIONS REACHED LIMIT.\n",
            "\n",
            "Increase the number of iterations (max_iter) or scale the data as shown in:\n",
            "    https://scikit-learn.org/stable/modules/preprocessing.html\n",
            "Please also refer to the documentation for alternative solver options:\n",
            "    https://scikit-learn.org/stable/modules/linear_model.html#logistic-regression\n",
            "  extra_warning_msg=_LOGISTIC_SOLVER_CONVERGENCE_MSG,\n",
            "/usr/local/lib/python3.7/dist-packages/sklearn/linear_model/_logistic.py:818: ConvergenceWarning: lbfgs failed to converge (status=1):\n",
            "STOP: TOTAL NO. of ITERATIONS REACHED LIMIT.\n",
            "\n",
            "Increase the number of iterations (max_iter) or scale the data as shown in:\n",
            "    https://scikit-learn.org/stable/modules/preprocessing.html\n",
            "Please also refer to the documentation for alternative solver options:\n",
            "    https://scikit-learn.org/stable/modules/linear_model.html#logistic-regression\n",
            "  extra_warning_msg=_LOGISTIC_SOLVER_CONVERGENCE_MSG,\n",
            "/usr/local/lib/python3.7/dist-packages/sklearn/linear_model/_logistic.py:818: ConvergenceWarning: lbfgs failed to converge (status=1):\n",
            "STOP: TOTAL NO. of ITERATIONS REACHED LIMIT.\n",
            "\n",
            "Increase the number of iterations (max_iter) or scale the data as shown in:\n",
            "    https://scikit-learn.org/stable/modules/preprocessing.html\n",
            "Please also refer to the documentation for alternative solver options:\n",
            "    https://scikit-learn.org/stable/modules/linear_model.html#logistic-regression\n",
            "  extra_warning_msg=_LOGISTIC_SOLVER_CONVERGENCE_MSG,\n",
            "/usr/local/lib/python3.7/dist-packages/sklearn/linear_model/_logistic.py:818: ConvergenceWarning: lbfgs failed to converge (status=1):\n",
            "STOP: TOTAL NO. of ITERATIONS REACHED LIMIT.\n",
            "\n",
            "Increase the number of iterations (max_iter) or scale the data as shown in:\n",
            "    https://scikit-learn.org/stable/modules/preprocessing.html\n",
            "Please also refer to the documentation for alternative solver options:\n",
            "    https://scikit-learn.org/stable/modules/linear_model.html#logistic-regression\n",
            "  extra_warning_msg=_LOGISTIC_SOLVER_CONVERGENCE_MSG,\n",
            "/usr/local/lib/python3.7/dist-packages/sklearn/linear_model/_logistic.py:818: ConvergenceWarning: lbfgs failed to converge (status=1):\n",
            "STOP: TOTAL NO. of ITERATIONS REACHED LIMIT.\n",
            "\n",
            "Increase the number of iterations (max_iter) or scale the data as shown in:\n",
            "    https://scikit-learn.org/stable/modules/preprocessing.html\n",
            "Please also refer to the documentation for alternative solver options:\n",
            "    https://scikit-learn.org/stable/modules/linear_model.html#logistic-regression\n",
            "  extra_warning_msg=_LOGISTIC_SOLVER_CONVERGENCE_MSG,\n",
            "/usr/local/lib/python3.7/dist-packages/sklearn/linear_model/_logistic.py:818: ConvergenceWarning: lbfgs failed to converge (status=1):\n",
            "STOP: TOTAL NO. of ITERATIONS REACHED LIMIT.\n",
            "\n",
            "Increase the number of iterations (max_iter) or scale the data as shown in:\n",
            "    https://scikit-learn.org/stable/modules/preprocessing.html\n",
            "Please also refer to the documentation for alternative solver options:\n",
            "    https://scikit-learn.org/stable/modules/linear_model.html#logistic-regression\n",
            "  extra_warning_msg=_LOGISTIC_SOLVER_CONVERGENCE_MSG,\n",
            "/usr/local/lib/python3.7/dist-packages/sklearn/linear_model/_logistic.py:818: ConvergenceWarning: lbfgs failed to converge (status=1):\n",
            "STOP: TOTAL NO. of ITERATIONS REACHED LIMIT.\n",
            "\n",
            "Increase the number of iterations (max_iter) or scale the data as shown in:\n",
            "    https://scikit-learn.org/stable/modules/preprocessing.html\n",
            "Please also refer to the documentation for alternative solver options:\n",
            "    https://scikit-learn.org/stable/modules/linear_model.html#logistic-regression\n",
            "  extra_warning_msg=_LOGISTIC_SOLVER_CONVERGENCE_MSG,\n",
            "/usr/local/lib/python3.7/dist-packages/sklearn/linear_model/_logistic.py:818: ConvergenceWarning: lbfgs failed to converge (status=1):\n",
            "STOP: TOTAL NO. of ITERATIONS REACHED LIMIT.\n",
            "\n",
            "Increase the number of iterations (max_iter) or scale the data as shown in:\n",
            "    https://scikit-learn.org/stable/modules/preprocessing.html\n",
            "Please also refer to the documentation for alternative solver options:\n",
            "    https://scikit-learn.org/stable/modules/linear_model.html#logistic-regression\n",
            "  extra_warning_msg=_LOGISTIC_SOLVER_CONVERGENCE_MSG,\n",
            "/usr/local/lib/python3.7/dist-packages/sklearn/linear_model/_logistic.py:818: ConvergenceWarning: lbfgs failed to converge (status=1):\n",
            "STOP: TOTAL NO. of ITERATIONS REACHED LIMIT.\n",
            "\n",
            "Increase the number of iterations (max_iter) or scale the data as shown in:\n",
            "    https://scikit-learn.org/stable/modules/preprocessing.html\n",
            "Please also refer to the documentation for alternative solver options:\n",
            "    https://scikit-learn.org/stable/modules/linear_model.html#logistic-regression\n",
            "  extra_warning_msg=_LOGISTIC_SOLVER_CONVERGENCE_MSG,\n",
            "/usr/local/lib/python3.7/dist-packages/sklearn/linear_model/_logistic.py:818: ConvergenceWarning: lbfgs failed to converge (status=1):\n",
            "STOP: TOTAL NO. of ITERATIONS REACHED LIMIT.\n",
            "\n",
            "Increase the number of iterations (max_iter) or scale the data as shown in:\n",
            "    https://scikit-learn.org/stable/modules/preprocessing.html\n",
            "Please also refer to the documentation for alternative solver options:\n",
            "    https://scikit-learn.org/stable/modules/linear_model.html#logistic-regression\n",
            "  extra_warning_msg=_LOGISTIC_SOLVER_CONVERGENCE_MSG,\n",
            "/usr/local/lib/python3.7/dist-packages/sklearn/linear_model/_logistic.py:818: ConvergenceWarning: lbfgs failed to converge (status=1):\n",
            "STOP: TOTAL NO. of ITERATIONS REACHED LIMIT.\n",
            "\n",
            "Increase the number of iterations (max_iter) or scale the data as shown in:\n",
            "    https://scikit-learn.org/stable/modules/preprocessing.html\n",
            "Please also refer to the documentation for alternative solver options:\n",
            "    https://scikit-learn.org/stable/modules/linear_model.html#logistic-regression\n",
            "  extra_warning_msg=_LOGISTIC_SOLVER_CONVERGENCE_MSG,\n",
            "/usr/local/lib/python3.7/dist-packages/sklearn/linear_model/_logistic.py:818: ConvergenceWarning: lbfgs failed to converge (status=1):\n",
            "STOP: TOTAL NO. of ITERATIONS REACHED LIMIT.\n",
            "\n",
            "Increase the number of iterations (max_iter) or scale the data as shown in:\n",
            "    https://scikit-learn.org/stable/modules/preprocessing.html\n",
            "Please also refer to the documentation for alternative solver options:\n",
            "    https://scikit-learn.org/stable/modules/linear_model.html#logistic-regression\n",
            "  extra_warning_msg=_LOGISTIC_SOLVER_CONVERGENCE_MSG,\n",
            "/usr/local/lib/python3.7/dist-packages/sklearn/linear_model/_logistic.py:818: ConvergenceWarning: lbfgs failed to converge (status=1):\n",
            "STOP: TOTAL NO. of ITERATIONS REACHED LIMIT.\n",
            "\n",
            "Increase the number of iterations (max_iter) or scale the data as shown in:\n",
            "    https://scikit-learn.org/stable/modules/preprocessing.html\n",
            "Please also refer to the documentation for alternative solver options:\n",
            "    https://scikit-learn.org/stable/modules/linear_model.html#logistic-regression\n",
            "  extra_warning_msg=_LOGISTIC_SOLVER_CONVERGENCE_MSG,\n",
            "/usr/local/lib/python3.7/dist-packages/sklearn/linear_model/_logistic.py:818: ConvergenceWarning: lbfgs failed to converge (status=1):\n",
            "STOP: TOTAL NO. of ITERATIONS REACHED LIMIT.\n",
            "\n",
            "Increase the number of iterations (max_iter) or scale the data as shown in:\n",
            "    https://scikit-learn.org/stable/modules/preprocessing.html\n",
            "Please also refer to the documentation for alternative solver options:\n",
            "    https://scikit-learn.org/stable/modules/linear_model.html#logistic-regression\n",
            "  extra_warning_msg=_LOGISTIC_SOLVER_CONVERGENCE_MSG,\n",
            "/usr/local/lib/python3.7/dist-packages/sklearn/linear_model/_logistic.py:818: ConvergenceWarning: lbfgs failed to converge (status=1):\n",
            "STOP: TOTAL NO. of ITERATIONS REACHED LIMIT.\n",
            "\n",
            "Increase the number of iterations (max_iter) or scale the data as shown in:\n",
            "    https://scikit-learn.org/stable/modules/preprocessing.html\n",
            "Please also refer to the documentation for alternative solver options:\n",
            "    https://scikit-learn.org/stable/modules/linear_model.html#logistic-regression\n",
            "  extra_warning_msg=_LOGISTIC_SOLVER_CONVERGENCE_MSG,\n",
            "/usr/local/lib/python3.7/dist-packages/sklearn/linear_model/_logistic.py:818: ConvergenceWarning: lbfgs failed to converge (status=1):\n",
            "STOP: TOTAL NO. of ITERATIONS REACHED LIMIT.\n",
            "\n",
            "Increase the number of iterations (max_iter) or scale the data as shown in:\n",
            "    https://scikit-learn.org/stable/modules/preprocessing.html\n",
            "Please also refer to the documentation for alternative solver options:\n",
            "    https://scikit-learn.org/stable/modules/linear_model.html#logistic-regression\n",
            "  extra_warning_msg=_LOGISTIC_SOLVER_CONVERGENCE_MSG,\n",
            "/usr/local/lib/python3.7/dist-packages/sklearn/linear_model/_logistic.py:818: ConvergenceWarning: lbfgs failed to converge (status=1):\n",
            "STOP: TOTAL NO. of ITERATIONS REACHED LIMIT.\n",
            "\n",
            "Increase the number of iterations (max_iter) or scale the data as shown in:\n",
            "    https://scikit-learn.org/stable/modules/preprocessing.html\n",
            "Please also refer to the documentation for alternative solver options:\n",
            "    https://scikit-learn.org/stable/modules/linear_model.html#logistic-regression\n",
            "  extra_warning_msg=_LOGISTIC_SOLVER_CONVERGENCE_MSG,\n",
            "/usr/local/lib/python3.7/dist-packages/sklearn/linear_model/_logistic.py:818: ConvergenceWarning: lbfgs failed to converge (status=1):\n",
            "STOP: TOTAL NO. of ITERATIONS REACHED LIMIT.\n",
            "\n",
            "Increase the number of iterations (max_iter) or scale the data as shown in:\n",
            "    https://scikit-learn.org/stable/modules/preprocessing.html\n",
            "Please also refer to the documentation for alternative solver options:\n",
            "    https://scikit-learn.org/stable/modules/linear_model.html#logistic-regression\n",
            "  extra_warning_msg=_LOGISTIC_SOLVER_CONVERGENCE_MSG,\n",
            "/usr/local/lib/python3.7/dist-packages/sklearn/linear_model/_logistic.py:818: ConvergenceWarning: lbfgs failed to converge (status=1):\n",
            "STOP: TOTAL NO. of ITERATIONS REACHED LIMIT.\n",
            "\n",
            "Increase the number of iterations (max_iter) or scale the data as shown in:\n",
            "    https://scikit-learn.org/stable/modules/preprocessing.html\n",
            "Please also refer to the documentation for alternative solver options:\n",
            "    https://scikit-learn.org/stable/modules/linear_model.html#logistic-regression\n",
            "  extra_warning_msg=_LOGISTIC_SOLVER_CONVERGENCE_MSG,\n"
          ]
        }
      ]
    },
    {
      "cell_type": "code",
      "source": [
        "import matplotlib.pyplot as plt\n",
        "\n",
        "plt.plot(variance_list, accuracy_with_sgima_normal_train, label='Train data')\n",
        "plt.plot(variance_list, accuracy_with_sgima_normal_test, label='Test data')\n",
        "\n",
        "plt.legend(loc='best')\n",
        "\n",
        "plt.title('Logistic Regression  Accuracy plot with No Noise')\n",
        "\n",
        "plt.xlabel('Variance')\n",
        "plt.ylabel('Accuracy')\n",
        "\n",
        "plt.show()"
      ],
      "metadata": {
        "colab": {
          "base_uri": "https://localhost:8080/",
          "height": 295
        },
        "id": "6RImBbqwCGIP",
        "outputId": "1b41888d-eba4-4bc2-d2f6-b8e5ae6fcec9"
      },
      "execution_count": 23,
      "outputs": [
        {
          "output_type": "display_data",
          "data": {
            "text/plain": [
              "<Figure size 432x288 with 1 Axes>"
            ],
            "image/png": "[encoded data removed]"
          },
          "metadata": {
            "needs_background": "light"
          }
        }
      ]
    },
    {
      "cell_type": "code",
      "source": [
        "import matplotlib.pyplot as plt\n",
        "\n",
        "plt.plot(variance_list, accuracy_with_sgima_regular_train, label='Train data')\n",
        "plt.plot(variance_list, accuracy_with_sgima_regular_test, label='Test data')\n",
        "\n",
        "plt.legend(loc='best')\n",
        "\n",
        "plt.title('Logistic Regression with Accuracy plot with Noise')\n",
        "\n",
        "plt.xlabel('Variance')\n",
        "plt.ylabel('Accuracy')\n",
        "\n",
        "plt.show()"
      ],
      "metadata": {
        "colab": {
          "base_uri": "https://localhost:8080/",
          "height": 295
        },
        "id": "R3Y5jjxsaYUc",
        "outputId": "ebb60938-f89e-4603-bff8-66f19e66fea2"
      },
      "execution_count": 24,
      "outputs": [
        {
          "output_type": "display_data",
          "data": {
            "text/plain": [
              "<Figure size 432x288 with 1 Axes>"
            ],
            "image/png": "[encoded data removed]"
          },
          "metadata": {
            "needs_background": "light"
          }
        }
      ]
    },
    {
      "cell_type": "code",
      "source": [
        "## Have regression_model_list_regular and regression_model_list\n",
        "\n",
        "\n",
        "regular_attack_accuracy_with_noise = []\n",
        "attack_accuracy_with_noise = []\n",
        "\n",
        "n = 400\n",
        "variance_list = [x * 0.25 for x in range(21)]\n",
        "\n",
        "selected_x_train = x_train_sk[:n]\n",
        "selected_y_train = y_train_sk[:n]\n",
        "\n",
        "selected_x_test = x_test_sk[:n]\n",
        "selected_y_test = y_test_sk[:n]\n",
        "\n",
        "for i in range(len(variance_list)):\n",
        "  selected_moded_normal = normal_model_list_with_sigma[i]\n",
        "  selected_moded_regular = regular_model_list_with_sigma[i]\n",
        "\n",
        "  normal_pred_train = selected_moded_normal.score(selected_x_train,selected_y_train)\n",
        "  normal_pred_test = selected_moded_normal.score(selected_x_test,selected_y_test)\n",
        "\n",
        "  normal_attack = (normal_pred_train + (1-normal_pred_test)) / 2\n",
        "\n",
        "  attack_accuracy_with_noise.append(normal_attack)\n",
        "\n",
        "  regular_pred_train = selected_moded_regular.score(selected_x_train,selected_y_train)\n",
        "  regular_pred_test = selected_moded_regular.score(selected_x_test,selected_y_test)\n",
        "\n",
        "  regular_attack = (regular_pred_train + (1-regular_pred_test)) / 2\n",
        "\n",
        "  regular_attack_accuracy_with_noise.append(regular_attack)\n",
        "\n",
        "\n",
        "\n",
        "\n"
      ],
      "metadata": {
        "id": "ISvFyy3ua7gy"
      },
      "execution_count": 25,
      "outputs": []
    },
    {
      "cell_type": "code",
      "source": [
        "import matplotlib.pyplot as plt\n",
        "\n",
        "plt.plot(variance_list, attack_accuracy_with_noise, label='Unregular attack with Noise')\n",
        "plt.plot(variance_list, regular_attack_accuracy_with_noise, label='Regular attack with Noise')\n",
        "\n",
        "plt.legend(loc='best')\n",
        "\n",
        "plt.title(\"Membership Inference Attakh with Noise\")\n",
        "plt.xlabel('Noise')\n",
        "plt.ylabel('Accuracy')\n",
        "\n",
        "plt.show()"
      ],
      "metadata": {
        "colab": {
          "base_uri": "https://localhost:8080/",
          "height": 295
        },
        "id": "RA6C8mQDb7lm",
        "outputId": "4040e69f-323d-46db-c533-f8b57258e6fe"
      },
      "execution_count": 26,
      "outputs": [
        {
          "output_type": "display_data",
          "data": {
            "text/plain": [
              "<Figure size 432x288 with 1 Axes>"
            ],
            "image/png": "[encoded data removed]"
          },
          "metadata": {
            "needs_background": "light"
          }
        }
      ]
    }
  ],
  "metadata": {
    "colab": {
      "name": "a5q3.ipynb",
      "provenance": [],
      "collapsed_sections": []
    },
    "gpuClass": "standard",
    "kernelspec": {
      "display_name": "Python 3",
      "name": "python3"
    },
    "language_info": {
      "name": "python"
    },
    "accelerator": "GPU"
  },
  "nbformat": 4,
  "nbformat_minor": 0
}
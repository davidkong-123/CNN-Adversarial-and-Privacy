{
  "cells": [
    {
      "cell_type": "code",
      "execution_count": 1,
      "metadata": {
        "colab": {
          "base_uri": "https://localhost:8080/"
        },
        "id": "lvmj0cMFjNth",
        "outputId": "b25f2348-0e98-4401-89f9-f0a616e29cbd"
      },
      "outputs": [
        {
          "output_type": "stream",
          "name": "stderr",
          "text": [
            "/usr/local/lib/python3.7/dist-packages/keras/optimizer_v2/adam.py:105: UserWarning: The `lr` argument is deprecated, use `learning_rate` instead.\n",
            "  super(Adam, self).__init__(name, **kwargs)\n"
          ]
        }
      ],
      "source": [
        "## Studnet ID: 20759072\n",
        "\n",
        "## quesetion a\n",
        "\n",
        "from tensorflow.keras import layers, Model, Sequential\n",
        "from tensorflow import keras\n",
        "import tensorflow\n",
        "import tensorflow as tf\n",
        "import numpy as np\n",
        "from tensorflow.keras.layers import Dense, Dropout, Flatten, Activation, Conv2D, MaxPooling2D\n",
        "from tensorflow.keras.layers import GaussianNoise\n",
        "\n",
        "(x_train, y_train), (x_test, y_test) = keras.datasets.mnist.load_data()\n",
        "assert x_train.shape == (60000, 28, 28)\n",
        "assert x_test.shape == (10000, 28, 28)\n",
        "assert y_train.shape == (60000,)\n",
        "assert y_test.shape == (10000,)\n",
        "\n",
        "x_train = x_train.astype(\"float32\") / 255\n",
        "x_test = x_test.astype(\"float32\") / 255\n",
        "\n",
        "x_train = np.expand_dims(x_train, axis=-1)\n",
        "x_train = tensorflow.image.resize(x_train, [32,32])\n",
        "\n",
        "x_test = np.expand_dims(x_test, axis=-1)\n",
        "x_test = tensorflow.image.resize(x_test, [32,32])\n",
        "\n",
        "# convert class vectors to binary class matrices\n",
        "y_train = keras.utils.to_categorical(y_train, 10)\n",
        "y_test = keras.utils.to_categorical(y_test, 10)\n",
        "\n",
        "x_train_slice = x_train[:6000]\n",
        "y_train_slice= y_train[:6000]\n",
        "\n",
        "\n",
        "## First define the model\n",
        "\n",
        "vgg_model = Sequential()\n",
        "\n",
        "##Feautre layer\n",
        "\n",
        "vgg_model.add(Conv2D(64, kernel_size=(3, 3),activation='relu',padding='same',input_shape = (32, 32, 1)))\n",
        "vgg_model.add(MaxPooling2D(pool_size=(2, 2)))\n",
        "\n",
        "vgg_model.add(Conv2D(128, (3, 3), activation='relu',padding='same'))\n",
        "vgg_model.add(MaxPooling2D(pool_size=(2, 2)))\n",
        "\n",
        "vgg_model.add(Conv2D(256, (3, 3), activation='relu',padding='same'))\n",
        "\n",
        "vgg_model.add(Conv2D(256, (3, 3), activation='relu',padding='same'))\n",
        "vgg_model.add(MaxPooling2D(pool_size=(2, 2)))\n",
        "\n",
        "vgg_model.add(Conv2D(512, (3, 3), activation='relu',padding='same'))\n",
        "\n",
        "vgg_model.add(Conv2D(512, (3, 3), activation='relu',padding='same'))\n",
        "vgg_model.add(MaxPooling2D(pool_size=(2, 2)))\n",
        "\n",
        "vgg_model.add(Conv2D(512, (3, 3), activation='relu',padding='same'))\n",
        "\n",
        "vgg_model.add(Conv2D(512, (3, 3), activation='relu',padding='same'))\n",
        "vgg_model.add(MaxPooling2D(pool_size=(2, 2)))\n",
        "\n",
        "\n",
        "# FC Layers\n",
        "\n",
        "vgg_model.add(Flatten())\n",
        "\n",
        "vgg_model.add(Dense(4096, activation='relu'))\n",
        "vgg_model.add(Dropout(0.5))\n",
        "vgg_model.add(Dense(4096, activation='relu'))\n",
        "vgg_model.add(Dropout(0.5))\n",
        "vgg_model.add(Dense(10, activation='softmax'))\n",
        "\n",
        "# print(model.summary())\n",
        "\n",
        "vgg_model.compile(loss=keras.losses.categorical_crossentropy , optimizer=keras.optimizers.Adam(lr=0.00001), metrics=['accuracy'])\n",
        "\n",
        "\n"
      ]
    },
    {
      "cell_type": "code",
      "execution_count": 2,
      "metadata": {
        "colab": {
          "base_uri": "https://localhost:8080/"
        },
        "id": "RrXVbtIejSiY",
        "outputId": "a4b50fee-0de6-477e-a9d3-8d5d5a34405b"
      },
      "outputs": [
        {
          "output_type": "stream",
          "name": "stdout",
          "text": [
            "Epoch 1/5\n",
            "117/117 [==============================] - 15s 89ms/step - loss: 2.1580 - accuracy: 0.2139 - val_loss: 1.5197 - val_accuracy: 0.4899\n",
            "Epoch 2/5\n",
            "117/117 [==============================] - 8s 72ms/step - loss: 1.0757 - accuracy: 0.6111 - val_loss: 0.6542 - val_accuracy: 0.7841\n",
            "Epoch 3/5\n",
            "117/117 [==============================] - 8s 70ms/step - loss: 0.5894 - accuracy: 0.7987 - val_loss: 0.4193 - val_accuracy: 0.8669\n",
            "Epoch 4/5\n",
            "117/117 [==============================] - 8s 72ms/step - loss: 0.4033 - accuracy: 0.8705 - val_loss: 0.2910 - val_accuracy: 0.9089\n",
            "Epoch 5/5\n",
            "117/117 [==============================] - 8s 69ms/step - loss: 0.2857 - accuracy: 0.9123 - val_loss: 0.2039 - val_accuracy: 0.9376\n",
            "Test loss: 0.2038903385400772\n",
            "Test accuracy: 0.9376000165939331\n"
          ]
        }
      ],
      "source": [
        "## question a\n",
        "\n",
        "## Simulate the epoch using different size of minibatch\n",
        "training_loss = []\n",
        "training_accuracy = []\n",
        "test_loss = []\n",
        "test_accuracy = []\n",
        "\n",
        "\n",
        "history = vgg_model.fit(x_train, y_train, batch_size=512, epochs=5, verbose=1, validation_data=(x_test, y_test), steps_per_epoch=60000/512)\n",
        "score = vgg_model.evaluate(x_test, y_test, verbose=0)\n",
        "print(\"Test loss:\", score[0])\n",
        "print(\"Test accuracy:\", score[1])\n",
        "\n",
        "\n",
        "\n"
      ]
    },
    {
      "cell_type": "code",
      "execution_count": 3,
      "metadata": {
        "id": "MbkQPMpuj4QP"
      },
      "outputs": [],
      "source": [
        "## Question b\n",
        "\n",
        "\n",
        "import tensorflow as tf\n",
        "\n",
        "def generate_image_adversary(model, image, label, eps):\n",
        "\t# cast the image\n",
        "  image = tf.cast(image, tf.float32)\n",
        "\n",
        "  with tf.GradientTape() as tape:\n",
        "    # explicitly indicate that our image should be tacked for\n",
        "    # gradient updates\n",
        "    tape.watch(image)\n",
        "    # use our model to make predictions on the input image and\n",
        "    # then compute the loss\n",
        "    pred = model(image)\n",
        "    loss = keras.losses.categorical_crossentropy(label, pred)\n",
        "\n",
        "  # calculate the gradients of loss with respect to the image, then\n",
        "  # compute the sign of the gradient\n",
        "  gradient = tape.gradient(loss, image)\n",
        "  signedGrad = tf.sign(gradient)\n",
        "  # construct the image adversary\n",
        "  adversary = (image + (signedGrad * eps)).numpy()\n",
        "  # return the image adversary to the calling function\n",
        "  return adversary\n",
        "\n",
        "\n",
        "episilon_value = 0.2\n",
        "\n",
        "\n",
        "\n",
        "ad_x_test = generate_image_adversary(vgg_model, x_test, y_test, episilon_value)\n",
        "\n"
      ]
    },
    {
      "cell_type": "code",
      "execution_count": 4,
      "metadata": {
        "colab": {
          "base_uri": "https://localhost:8080/"
        },
        "id": "ctIZTdj3oPK0",
        "outputId": "ebab9a6d-2d62-4a9b-da83-0e7b4664c307"
      },
      "outputs": [
        {
          "output_type": "stream",
          "name": "stdout",
          "text": [
            "Epsilon: 0.2\n",
            "Test loss: 6.415348052978516\n",
            "Test accuracy: 0.044599998742341995\n"
          ]
        }
      ],
      "source": [
        "score = vgg_model.evaluate(ad_x_test, y_test, verbose=0)\n",
        "print(\"Epsilon: 0.2\")\n",
        "print(\"Test loss:\", score[0])\n",
        "print(\"Test accuracy:\", score[1])"
      ]
    },
    {
      "cell_type": "code",
      "execution_count": 5,
      "metadata": {
        "colab": {
          "base_uri": "https://localhost:8080/",
          "height": 177
        },
        "id": "0SIUzG_3Soxk",
        "outputId": "9f891bd7-03b1-4ac1-9972-9823da0ba848"
      },
      "outputs": [
        {
          "output_type": "stream",
          "name": "stdout",
          "text": [
            "FGSM attack image with epsilon 0.2\n"
          ]
        },
        {
          "output_type": "display_data",
          "data": {
            "text/plain": [
              "<Figure size 720x504 with 5 Axes>"
            ],
            "image/png": "[encoded data removed]"
          },
          "metadata": {
            "needs_background": "light"
          }
        }
      ],
      "source": [
        "import matplotlib.pyplot as plt\n",
        "import random\n",
        "random_list = random.sample(range(1, 6000), 5)\n",
        "fig = plt.figure(figsize=(10, 7))\n",
        "\n",
        "print(\"FGSM attack image with epsilon 0.2\")\n",
        "\n",
        "for i in range(5):\n",
        "  fig.add_subplot(1, 5, i+1)\n",
        "  \n",
        "  trial = ad_x_test[random_list[i]].reshape(32,32)\n",
        "\n",
        "  # showing image\n",
        "  plt.imshow(trial)\n",
        "  plt.title(np.argmax(y_test[random_list[i]]))"
      ]
    },
    {
      "cell_type": "code",
      "execution_count": 6,
      "metadata": {
        "colab": {
          "base_uri": "https://localhost:8080/"
        },
        "id": "0ozFO23WRu4Q",
        "outputId": "310221b5-e26e-48f4-df5d-98ee88b727a3"
      },
      "outputs": [
        {
          "output_type": "stream",
          "name": "stdout",
          "text": [
            "Epsilon: 0.1\n",
            "Test loss: 2.229656457901001\n",
            "Test accuracy: 0.3652999997138977\n"
          ]
        }
      ],
      "source": [
        "episilon_value = 0.1\n",
        "\n",
        "\n",
        "ad_x_test_1 = generate_image_adversary(vgg_model, x_test, y_test, episilon_value)\n",
        "\n",
        "score = vgg_model.evaluate(ad_x_test_1, y_test, verbose=0)\n",
        "print(\"Epsilon: 0.1\")\n",
        "print(\"Test loss:\", score[0])\n",
        "print(\"Test accuracy:\", score[1])"
      ]
    },
    {
      "cell_type": "code",
      "execution_count": 7,
      "metadata": {
        "colab": {
          "base_uri": "https://localhost:8080/",
          "height": 160
        },
        "id": "z7E4MkCcZtgs",
        "outputId": "d0739f87-2928-48bf-adac-df946b7bb18f"
      },
      "outputs": [
        {
          "output_type": "display_data",
          "data": {
            "text/plain": [
              "<Figure size 720x504 with 5 Axes>"
            ],
            "image/png": "[encoded data removed]"
          },
          "metadata": {
            "needs_background": "light"
          }
        }
      ],
      "source": [
        "import matplotlib.pyplot as plt\n",
        "import random\n",
        "random_list = random.sample(range(1, 6000), 5)\n",
        "fig = plt.figure(figsize=(10, 7))\n",
        "\n",
        "\n",
        "for i in range(5):\n",
        "  fig.add_subplot(1, 5, i+1)\n",
        "  \n",
        "  trial = ad_x_test_1[random_list[i]].reshape(32,32)\n",
        "\n",
        "  # showing image\n",
        "  plt.imshow(trial)\n",
        "  plt.title(np.argmax(y_test[random_list[i]]))"
      ]
    },
    {
      "cell_type": "code",
      "execution_count": 8,
      "metadata": {
        "colab": {
          "base_uri": "https://localhost:8080/"
        },
        "id": "7gL5oQ95RvIq",
        "outputId": "b47e82db-0352-45a5-a922-f8339e943fd3"
      },
      "outputs": [
        {
          "output_type": "stream",
          "name": "stdout",
          "text": [
            "Epsilon: 0.5\n",
            "Test loss: 16.48651123046875\n",
            "Test accuracy: 0.004999999888241291\n"
          ]
        }
      ],
      "source": [
        "episilon_value = 0.5\n",
        "\n",
        "\n",
        "ad_x_test_5 = generate_image_adversary(vgg_model, x_test, y_test, episilon_value)\n",
        "\n",
        "score = vgg_model.evaluate(ad_x_test_5, y_test, verbose=0)\n",
        "print(\"Epsilon: 0.5\")\n",
        "print(\"Test loss:\", score[0])\n",
        "print(\"Test accuracy:\", score[1])"
      ]
    },
    {
      "cell_type": "code",
      "execution_count": 9,
      "metadata": {
        "colab": {
          "base_uri": "https://localhost:8080/",
          "height": 160
        },
        "id": "CTOgDQG7Z35e",
        "outputId": "f35b26d6-29c6-417e-d0dd-58982ec4cd65"
      },
      "outputs": [
        {
          "output_type": "display_data",
          "data": {
            "text/plain": [
              "<Figure size 720x504 with 5 Axes>"
            ],
            "image/png": "[encoded data removed]"
          },
          "metadata": {
            "needs_background": "light"
          }
        }
      ],
      "source": [
        "import matplotlib.pyplot as plt\n",
        "import random\n",
        "random_list = random.sample(range(1, 6000), 5)\n",
        "fig = plt.figure(figsize=(10, 7))\n",
        "\n",
        "\n",
        "for i in range(5):\n",
        "  fig.add_subplot(1, 5, i+1)\n",
        "  \n",
        "  trial = ad_x_test_5[random_list[i]].reshape(32,32)\n",
        "\n",
        "  # showing image\n",
        "  plt.imshow(trial)\n",
        "  plt.title(np.argmax(y_test[random_list[i]]))"
      ]
    },
    {
      "cell_type": "code",
      "execution_count": 10,
      "metadata": {
        "id": "bx5q2Y_qcBaX"
      },
      "outputs": [],
      "source": [
        "## quesetion c\n",
        "\n",
        "from tensorflow.keras import layers, Model, Sequential\n",
        "from tensorflow import keras\n",
        "import tensorflow\n",
        "import tensorflow as tf\n",
        "import numpy as np\n",
        "from tensorflow.keras.layers import Dense, Dropout, Flatten, Activation, Conv2D, MaxPooling2D\n",
        "from tensorflow.keras.layers import GaussianNoise\n",
        "\n",
        "(x_train, y_train), (x_test, y_test) = keras.datasets.mnist.load_data()\n",
        "assert x_train.shape == (60000, 28, 28)\n",
        "assert x_test.shape == (10000, 28, 28)\n",
        "assert y_train.shape == (60000,)\n",
        "assert y_test.shape == (10000,)\n",
        "\n",
        "x_train = x_train.astype(\"float32\") / 255\n",
        "x_test = x_test.astype(\"float32\") / 255\n",
        "\n",
        "x_train = np.expand_dims(x_train, axis=-1)\n",
        "x_train = tensorflow.image.resize(x_train, [32,32])\n",
        "\n",
        "x_test = np.expand_dims(x_test, axis=-1)\n",
        "x_test = tensorflow.image.resize(x_test, [32,32])\n",
        "\n",
        "# convert class vectors to binary class matrices\n",
        "y_train = keras.utils.to_categorical(y_train, 10)\n",
        "y_test = keras.utils.to_categorical(y_test, 10)\n",
        "\n",
        "x_train_slice = x_train[:6000]\n",
        "y_train_slice= y_train[:6000]\n",
        "\n",
        "\n",
        "## First define the model\n",
        "\n",
        "model = Sequential()\n",
        "\n",
        "##Feautre layer\n",
        "\n",
        "model.add(Conv2D(64, kernel_size=(3, 3),activation='relu',padding='same',input_shape = (32, 32, 1)))\n",
        "model.add(MaxPooling2D(pool_size=(2, 2)))\n",
        "\n",
        "model.add(Conv2D(128, (3, 3), activation='relu',padding='same'))\n",
        "model.add(MaxPooling2D(pool_size=(2, 2)))\n",
        "\n",
        "model.add(Conv2D(256, (3, 3), activation='relu',padding='same'))\n",
        "\n",
        "model.add(Conv2D(256, (3, 3), activation='relu',padding='same'))\n",
        "model.add(MaxPooling2D(pool_size=(2, 2)))\n",
        "\n",
        "model.add(Conv2D(512, (3, 3), activation='relu',padding='same'))\n",
        "\n",
        "model.add(Conv2D(512, (3, 3), activation='relu',padding='same'))\n",
        "model.add(MaxPooling2D(pool_size=(2, 2)))\n",
        "\n",
        "model.add(Conv2D(512, (3, 3), activation='relu',padding='same'))\n",
        "\n",
        "model.add(Conv2D(512, (3, 3), activation='relu',padding='same'))\n",
        "model.add(MaxPooling2D(pool_size=(2, 2)))\n",
        "\n",
        "\n",
        "# FC Layers\n",
        "\n",
        "model.add(Flatten())\n",
        "\n",
        "model.add(Dense(4096, activation='relu'))\n",
        "model.add(Dropout(0.5))\n",
        "model.add(Dense(4096, activation='relu'))\n",
        "model.add(Dropout(0.5))\n",
        "model.add(Dense(10, activation='softmax'))\n",
        "\n",
        "# print(model.summary())\n",
        "\n",
        "# model.compile(loss=keras.losses.categorical_crossentropy , optimizer=keras.optimizers.Adam(lr=0.00001), metrics=['accuracy'])\n",
        "\n",
        "\n"
      ]
    },
    {
      "cell_type": "code",
      "source": [
        "pip install neural_structured_learning"
      ],
      "metadata": {
        "colab": {
          "base_uri": "https://localhost:8080/"
        },
        "id": "J9HSMu4jQ9AL",
        "outputId": "f78b6ba0-ea76-42fa-c1a8-528f9551d662"
      },
      "execution_count": 11,
      "outputs": [
        {
          "output_type": "stream",
          "name": "stdout",
          "text": [
            "Looking in indexes: https://pypi.org/simple, https://us-python.pkg.dev/colab-wheels/public/simple/\n",
            "Requirement already satisfied: neural_structured_learning in /usr/local/lib/python3.7/dist-packages (1.3.1)\n",
            "Requirement already satisfied: scipy in /usr/local/lib/python3.7/dist-packages (from neural_structured_learning) (1.7.3)\n",
            "Requirement already satisfied: absl-py in /usr/local/lib/python3.7/dist-packages (from neural_structured_learning) (1.2.0)\n",
            "Requirement already satisfied: six in /usr/local/lib/python3.7/dist-packages (from neural_structured_learning) (1.15.0)\n",
            "Requirement already satisfied: attrs in /usr/local/lib/python3.7/dist-packages (from neural_structured_learning) (21.4.0)\n",
            "Requirement already satisfied: numpy<1.23.0,>=1.16.5 in /usr/local/lib/python3.7/dist-packages (from scipy->neural_structured_learning) (1.21.6)\n"
          ]
        }
      ]
    },
    {
      "cell_type": "code",
      "execution_count": 12,
      "metadata": {
        "colab": {
          "base_uri": "https://localhost:8080/"
        },
        "id": "GxdLYy7bdhPF",
        "outputId": "ffb445d7-12f5-4dc6-949d-7ec7003ede2e"
      },
      "outputs": [
        {
          "output_type": "stream",
          "name": "stderr",
          "text": [
            "/usr/local/lib/python3.7/dist-packages/keras/optimizer_v2/adam.py:105: UserWarning: The `lr` argument is deprecated, use `learning_rate` instead.\n",
            "  super(Adam, self).__init__(name, **kwargs)\n"
          ]
        }
      ],
      "source": [
        "import neural_structured_learning as nsl\n",
        "\n",
        "# model.compile(loss=keras.losses.categorical_crossentropy , optimizer=keras.optimizers.Adam(lr=0.00001), metrics=['accuracy'])\n",
        "\n",
        "\n",
        "adv_config = nsl.configs.make_adv_reg_config(\n",
        "    multiplier=0.2,\n",
        "    adv_step_size=0.2,\n",
        "    adv_grad_norm='infinity'\n",
        ")\n",
        "\n",
        "adv_model_2 = nsl.keras.AdversarialRegularization(\n",
        "    model,\n",
        "    label_keys=['label'],\n",
        "    adv_config=adv_config\n",
        ")\n",
        "# model.summary()\n",
        "adv_model_2.compile(loss=keras.losses.categorical_crossentropy , optimizer=keras.optimizers.Adam(lr=0.00001), metrics=['accuracy'])\n"
      ]
    },
    {
      "cell_type": "code",
      "execution_count": 13,
      "metadata": {
        "colab": {
          "base_uri": "https://localhost:8080/"
        },
        "id": "pSQcBwv-lqxR",
        "outputId": "7077da92-d737-4754-b167-57100cf7bb17"
      },
      "outputs": [
        {
          "output_type": "stream",
          "name": "stdout",
          "text": [
            "WARNING:tensorflow:AutoGraph could not transform <bound method Socket.send of <zmq.Socket(zmq.PUSH) at 0x7fcb5b8689f0>> and will run it as-is.\n",
            "Please report this to the TensorFlow team. When filing the bug, set the verbosity to 10 (on Linux, `export AUTOGRAPH_VERBOSITY=10`) and attach the full output.\n",
            "Cause: module, class, method, function, traceback, frame, or code object was expected, got cython_function_or_method\n",
            "To silence this warning, decorate the function with @tf.autograph.experimental.do_not_convert\n"
          ]
        },
        {
          "output_type": "stream",
          "name": "stderr",
          "text": [
            "WARNING:absl:Cannot perturb features dict_keys(['label'])\n",
            "WARNING:tensorflow:AutoGraph could not transform <bound method Socket.send of <zmq.Socket(zmq.PUSH) at 0x7fcb5b8689f0>> and will run it as-is.\n",
            "Please report this to the TensorFlow team. When filing the bug, set the verbosity to 10 (on Linux, `export AUTOGRAPH_VERBOSITY=10`) and attach the full output.\n",
            "Cause: module, class, method, function, traceback, frame, or code object was expected, got cython_function_or_method\n",
            "To silence this warning, decorate the function with @tf.autograph.experimental.do_not_convert\n"
          ]
        },
        {
          "output_type": "stream",
          "name": "stdout",
          "text": [
            "WARNING: AutoGraph could not transform <bound method Socket.send of <zmq.Socket(zmq.PUSH) at 0x7fcb5b8689f0>> and will run it as-is.\n",
            "Please report this to the TensorFlow team. When filing the bug, set the verbosity to 10 (on Linux, `export AUTOGRAPH_VERBOSITY=10`) and attach the full output.\n",
            "Cause: module, class, method, function, traceback, frame, or code object was expected, got cython_function_or_method\n",
            "To silence this warning, decorate the function with @tf.autograph.experimental.do_not_convert\n",
            "WARNING:tensorflow:AutoGraph could not transform <function wrap at 0x7fcb69b48f80> and will run it as-is.\n",
            "Cause: while/else statement not yet supported\n",
            "To silence this warning, decorate the function with @tf.autograph.experimental.do_not_convert\n"
          ]
        },
        {
          "output_type": "stream",
          "name": "stderr",
          "text": [
            "WARNING:tensorflow:AutoGraph could not transform <function wrap at 0x7fcb69b48f80> and will run it as-is.\n",
            "Cause: while/else statement not yet supported\n",
            "To silence this warning, decorate the function with @tf.autograph.experimental.do_not_convert\n"
          ]
        },
        {
          "output_type": "stream",
          "name": "stdout",
          "text": [
            "\r   1/1429 [..............................] - ETA: 8:08:30 - loss: 2.7640 - categorical_crossentropy: 2.3033 - categorical_accuracy: 0.1667 - scaled_adversarial_loss: 0.4607WARNING: AutoGraph could not transform <function wrap at 0x7fcb69b48f80> and will run it as-is.\n",
            "Cause: while/else statement not yet supported\n",
            "To silence this warning, decorate the function with @tf.autograph.experimental.do_not_convert\n",
            "1429/1429 [==============================] - 82s 43ms/step - loss: 0.4133 - categorical_crossentropy: 0.2460 - categorical_accuracy: 0.9161 - scaled_adversarial_loss: 0.1673\n"
          ]
        },
        {
          "output_type": "execute_result",
          "data": {
            "text/plain": [
              "<keras.callbacks.History at 0x7fca529b24d0>"
            ]
          },
          "metadata": {},
          "execution_count": 13
        }
      ],
      "source": [
        "opt = tf.keras.optimizers.Adam(learning_rate=1.0e-4)\n",
        "\n",
        "adv_model_2.compile(optimizer=opt,\n",
        "                  loss='categorical_crossentropy',\n",
        "                  metrics=['accuracy'])\n",
        "\n",
        "adv_model_2.fit(x={'feature': x_train, 'label': y_train}, batch_size=42, epochs=1)\n",
        "\n",
        "# res = adv_model.predict(x={'feature': x_test, 'label': y_test})"
      ]
    },
    {
      "cell_type": "code",
      "execution_count": 14,
      "metadata": {
        "colab": {
          "base_uri": "https://localhost:8080/"
        },
        "id": "tNi08HiOnECk",
        "outputId": "31a75a8c-17df-42d1-8045-b34a48eb9ee7"
      },
      "outputs": [
        {
          "output_type": "stream",
          "name": "stdout",
          "text": [
            "Unattack Test\n",
            "313/313 [==============================] - 6s 17ms/step - loss: 0.1452 - categorical_crossentropy: 0.0506 - categorical_accuracy: 0.9838 - scaled_adversarial_loss: 0.0947\n"
          ]
        }
      ],
      "source": [
        "print(\"Unattack Test\")\n",
        "\n",
        "res = adv_model_2.evaluate(x={'feature': x_test, 'label': y_test})"
      ]
    },
    {
      "cell_type": "code",
      "execution_count": 15,
      "metadata": {
        "colab": {
          "base_uri": "https://localhost:8080/"
        },
        "id": "r4d6w1xLnk7r",
        "outputId": "b9240615-9530-43d0-904a-b351748b9fc0"
      },
      "outputs": [
        {
          "output_type": "stream",
          "name": "stdout",
          "text": [
            "313/313 [==============================] - 6s 18ms/step - loss: 4.6942 - categorical_crossentropy: 2.1813 - categorical_accuracy: 0.3814 - scaled_adversarial_loss: 2.5129\n",
            "Epsilon: 0.2\n",
            "Test loss: 4.694221019744873\n",
            "Test accuracy: 2.181316614151001\n"
          ]
        }
      ],
      "source": [
        "score =  adv_model_2.evaluate(x={'feature': ad_x_test, 'label': y_test})\n",
        "print(\"Epsilon: 0.2\")\n",
        "print(\"Test loss:\", score[0])\n",
        "print(\"Test accuracy:\", score[1])"
      ]
    },
    {
      "cell_type": "code",
      "execution_count": 16,
      "metadata": {
        "colab": {
          "base_uri": "https://localhost:8080/"
        },
        "id": "EZ00VqQwo-Gr",
        "outputId": "a6831379-6c10-4fef-f0e5-f42639a9d96e"
      },
      "outputs": [
        {
          "output_type": "stream",
          "name": "stdout",
          "text": [
            "313/313 [==============================] - 5s 17ms/step - loss: 1.7163 - categorical_crossentropy: 0.4363 - categorical_accuracy: 0.8573 - scaled_adversarial_loss: 1.2800\n",
            "Epsilon: 0.1\n",
            "Test loss: 1.7163037061691284\n",
            "Test accuracy: 0.4363267719745636\n"
          ]
        }
      ],
      "source": [
        "score =  adv_model_2.evaluate(x={'feature': ad_x_test_1, 'label': y_test})\n",
        "print(\"Epsilon: 0.1\")\n",
        "print(\"Test loss:\", score[0])\n",
        "print(\"Test accuracy:\", score[1])"
      ]
    },
    {
      "cell_type": "code",
      "execution_count": 17,
      "metadata": {
        "colab": {
          "base_uri": "https://localhost:8080/"
        },
        "id": "pMozgUKHpAE-",
        "outputId": "1755e678-b050-47f2-e23f-1c2d2aaa0ee0"
      },
      "outputs": [
        {
          "output_type": "stream",
          "name": "stdout",
          "text": [
            "313/313 [==============================] - 5s 17ms/step - loss: 16.2655 - categorical_crossentropy: 10.7705 - categorical_accuracy: 0.0197 - scaled_adversarial_loss: 5.4951\n",
            "Epsilon: 0.5\n",
            "Test loss: 16.265514373779297\n",
            "Test accuracy: 10.770455360412598\n"
          ]
        }
      ],
      "source": [
        "score =  adv_model_2.evaluate(x={'feature': ad_x_test_5, 'label': y_test})\n",
        "print(\"Epsilon: 0.5\")\n",
        "print(\"Test loss:\", score[0])\n",
        "print(\"Test accuracy:\", score[1])"
      ]
    },
    {
      "cell_type": "code",
      "execution_count": 18,
      "metadata": {
        "id": "9cFLm5m83UDb"
      },
      "outputs": [],
      "source": [
        "## quesetion d\n",
        "\n",
        "from tensorflow.keras import layers, Model, Sequential\n",
        "from tensorflow import keras\n",
        "import tensorflow\n",
        "import tensorflow as tf\n",
        "import numpy as np\n",
        "from tensorflow.keras.layers import Dense, Dropout, Flatten, Activation, Conv2D, MaxPooling2D\n",
        "from tensorflow.keras.layers import GaussianNoise\n",
        "\n",
        "(x_train, y_train), (x_test, y_test) = keras.datasets.mnist.load_data()\n",
        "assert x_train.shape == (60000, 28, 28)\n",
        "assert x_test.shape == (10000, 28, 28)\n",
        "assert y_train.shape == (60000,)\n",
        "assert y_test.shape == (10000,)\n",
        "\n",
        "x_train = x_train.astype(\"float32\") / 255\n",
        "x_test = x_test.astype(\"float32\") / 255\n",
        "\n",
        "x_train = np.expand_dims(x_train, axis=-1)\n",
        "x_train = tensorflow.image.resize(x_train, [32,32])\n",
        "\n",
        "x_test = np.expand_dims(x_test, axis=-1)\n",
        "x_test = tensorflow.image.resize(x_test, [32,32])\n",
        "\n",
        "# convert class vectors to binary class matrices\n",
        "y_train = keras.utils.to_categorical(y_train, 10)\n",
        "y_test = keras.utils.to_categorical(y_test, 10)\n",
        "\n",
        "x_train_slice = x_train[:6000]\n",
        "y_train_slice= y_train[:6000]\n",
        "\n",
        "\n",
        "## First define the model\n",
        "\n",
        "model = Sequential()\n",
        "\n",
        "##Feautre layer\n",
        "\n",
        "model.add(Conv2D(64, kernel_size=(3, 3),activation='relu',padding='same',input_shape = (32, 32, 1)))\n",
        "model.add(MaxPooling2D(pool_size=(2, 2)))\n",
        "\n",
        "model.add(Conv2D(128, (3, 3), activation='relu',padding='same'))\n",
        "model.add(MaxPooling2D(pool_size=(2, 2)))\n",
        "\n",
        "model.add(Conv2D(256, (3, 3), activation='relu',padding='same'))\n",
        "\n",
        "model.add(Conv2D(256, (3, 3), activation='relu',padding='same'))\n",
        "model.add(MaxPooling2D(pool_size=(2, 2)))\n",
        "\n",
        "model.add(Conv2D(512, (3, 3), activation='relu',padding='same'))\n",
        "\n",
        "model.add(Conv2D(512, (3, 3), activation='relu',padding='same'))\n",
        "model.add(MaxPooling2D(pool_size=(2, 2)))\n",
        "\n",
        "model.add(Conv2D(512, (3, 3), activation='relu',padding='same'))\n",
        "\n",
        "model.add(Conv2D(512, (3, 3), activation='relu',padding='same'))\n",
        "model.add(MaxPooling2D(pool_size=(2, 2)))\n",
        "\n",
        "\n",
        "# FC Layers\n",
        "\n",
        "model.add(Flatten())\n",
        "\n",
        "model.add(Dense(4096, activation='relu'))\n",
        "model.add(Dropout(0.5))\n",
        "model.add(Dense(4096, activation='relu'))\n",
        "model.add(Dropout(0.5))\n",
        "model.add(Dense(10, activation='softmax'))\n",
        "\n",
        "# print(model.summary())\n",
        "\n",
        "# model.compile(loss=keras.losses.categorical_crossentropy , optimizer=keras.optimizers.Adam(lr=0.00001), metrics=['accuracy'])\n",
        "\n",
        "\n"
      ]
    },
    {
      "cell_type": "code",
      "execution_count": 19,
      "metadata": {
        "id": "RYooLrR350yF"
      },
      "outputs": [],
      "source": [
        "\n",
        "\n",
        "\n",
        "\n",
        "import neural_structured_learning as nsl\n",
        "\n",
        "# model.compile(loss=keras.losses.categorical_crossentropy , optimizer=keras.optimizers.Adam(lr=0.00001), metrics=['accuracy'])\n",
        "\n",
        "\n",
        "adv_config_pgd = nsl.configs.make_adv_reg_config(\n",
        "    multiplier=0.2,\n",
        "    adv_step_size=0.2,\n",
        "    adv_grad_norm='infinity',\n",
        "    pgd_iterations=50,\n",
        "    pgd_epsilon=0.2,\n",
        "    clip_value_min = 0,\n",
        "    clip_value_max = 1\n",
        ")\n",
        "\n",
        "adv_model_pgd = nsl.keras.AdversarialRegularization(\n",
        "    model,\n",
        "    # label_keys=['label'],\n",
        "    adv_config=adv_config_pgd\n",
        ")\n",
        "# model.summary()\n",
        "# adv_model_pgd.compile(loss=keras.losses.categorical_crossentropy , optimizer=keras.optimizers.Adam(lr=0.00001), metrics=['accuracy'])\n",
        "\n"
      ]
    },
    {
      "cell_type": "code",
      "execution_count": 20,
      "metadata": {
        "colab": {
          "base_uri": "https://localhost:8080/"
        },
        "id": "xsPgkn6p5rBz",
        "outputId": "da28b39e-8e11-4d1f-82fe-e22022956ba3"
      },
      "outputs": [
        {
          "output_type": "stream",
          "name": "stdout",
          "text": [
            "1429/1429 [==============================] - 672s 454ms/step - loss: 0.5675 - categorical_crossentropy: 0.2446 - categorical_accuracy: 0.9179 - scaled_adversarial_loss: 0.3229\n"
          ]
        },
        {
          "output_type": "execute_result",
          "data": {
            "text/plain": [
              "<keras.callbacks.History at 0x7fc9a43d4390>"
            ]
          },
          "metadata": {},
          "execution_count": 20
        }
      ],
      "source": [
        "opt = tf.keras.optimizers.Adam(learning_rate=1.0e-4)\n",
        "\n",
        "adv_model_pgd.compile(optimizer=opt,\n",
        "                  loss='categorical_crossentropy',\n",
        "                  metrics=['accuracy'])\n",
        "\n",
        "adv_model_pgd.fit(x={'feature': x_train, 'label': y_train}, batch_size=42, epochs=1)\n",
        "\n",
        "# res = adv_model_pgd.predict(x={'feature': x_test, 'label': y_test})"
      ]
    },
    {
      "cell_type": "code",
      "execution_count": 21,
      "metadata": {
        "colab": {
          "base_uri": "https://localhost:8080/"
        },
        "id": "GCiS-ZtpmnQC",
        "outputId": "4fa6a2f8-9e55-4f99-9844-8cc5b3c12756"
      },
      "outputs": [
        {
          "output_type": "stream",
          "name": "stdout",
          "text": [
            "PGD model with standard test\n",
            "313/313 [==============================] - 130s 381ms/step - loss: 0.2504 - categorical_crossentropy: 0.0444 - categorical_accuracy: 0.9862 - scaled_adversarial_loss: 0.2059\n",
            "Test loss: 0.2503626048564911\n",
            "Test accuracy: 0.9861999750137329\n"
          ]
        }
      ],
      "source": [
        "print(\"PGD model with standard test\")\n",
        "score = adv_model_pgd.evaluate(x={'feature': x_test, 'label': y_test})\n",
        "print(\"Test loss:\", score[0])\n",
        "print(\"Test accuracy:\", score[2])"
      ]
    },
    {
      "cell_type": "code",
      "execution_count": 22,
      "metadata": {
        "colab": {
          "base_uri": "https://localhost:8080/"
        },
        "id": "iMx0pS6ymv_G",
        "outputId": "069ca9d8-8e89-4a45-b27f-449979ddeb97"
      },
      "outputs": [
        {
          "output_type": "stream",
          "name": "stdout",
          "text": [
            "PGD model with FGSM. test with 0.2 epsilon\n",
            "313/313 [==============================] - 119s 381ms/step - loss: 1.3243 - categorical_crossentropy: 0.4476 - categorical_accuracy: 0.8822 - scaled_adversarial_loss: 0.8767\n",
            "Test loss: 1.3242617845535278\n",
            "Test accuracy: 0.8822000026702881\n"
          ]
        }
      ],
      "source": [
        "print(\"PGD model with FGSM. test with 0.2 epsilon\")\n",
        "score = adv_model_pgd.evaluate(x={'feature': ad_x_test, 'label': y_test})\n",
        "print(\"Test loss:\", score[0])\n",
        "print(\"Test accuracy:\", score[2])"
      ]
    },
    {
      "cell_type": "code",
      "execution_count": 23,
      "metadata": {
        "colab": {
          "base_uri": "https://localhost:8080/"
        },
        "id": "TdZCbblL0Fds",
        "outputId": "751d7608-6313-421d-8bcd-1882940d91ce"
      },
      "outputs": [
        {
          "output_type": "stream",
          "name": "stdout",
          "text": [
            "PGD model with FGSM. test with 0.1 epsilon\n",
            "313/313 [==============================] - 119s 381ms/step - loss: 0.6666 - categorical_crossentropy: 0.2065 - categorical_accuracy: 0.9578 - scaled_adversarial_loss: 0.4601\n",
            "Test loss: 0.6665821075439453\n",
            "Test accuracy: 0.9577999711036682\n"
          ]
        }
      ],
      "source": [
        "print(\"PGD model with FGSM. test with 0.1 epsilon\")\n",
        "score = adv_model_pgd.evaluate(x={'feature': ad_x_test_1, 'label': y_test})\n",
        "print(\"Test loss:\", score[0])\n",
        "print(\"Test accuracy:\", score[2])"
      ]
    },
    {
      "cell_type": "code",
      "execution_count": 24,
      "metadata": {
        "colab": {
          "base_uri": "https://localhost:8080/"
        },
        "id": "dOjqAQ7a0FqJ",
        "outputId": "132fa706-9773-46e7-c39a-4691655c71c6"
      },
      "outputs": [
        {
          "output_type": "stream",
          "name": "stdout",
          "text": [
            "PGD model with FGSM. test with 0.5 epsilon\n",
            "313/313 [==============================] - 120s 382ms/step - loss: 5.0226 - categorical_crossentropy: 3.3533 - categorical_accuracy: 0.0706 - scaled_adversarial_loss: 1.6693\n",
            "Test loss: 5.022578716278076\n",
            "Test accuracy: 0.0706000030040741\n"
          ]
        }
      ],
      "source": [
        "print(\"PGD model with FGSM. test with 0.5 epsilon\")\n",
        "score = adv_model_pgd.evaluate(x={'feature': ad_x_test_5, 'label': y_test})\n",
        "print(\"Test loss:\", score[0])\n",
        "print(\"Test accuracy:\", score[2])"
      ]
    },
    {
      "cell_type": "code",
      "execution_count": 25,
      "metadata": {
        "colab": {
          "base_uri": "https://localhost:8080/"
        },
        "id": "bEk4kA060poG",
        "outputId": "65a6a401-c43d-4b49-ade2-6794e2ae8cc5"
      },
      "outputs": [
        {
          "output_type": "stream",
          "name": "stderr",
          "text": [
            "WARNING:absl:Cannot perturb features dict_keys([''])\n"
          ]
        }
      ],
      "source": [
        "## question d \n",
        "import neural_structured_learning as nsl\n",
        "import tensorflow as tf\n",
        "\n",
        "\n",
        "episilon_value = 0.1\n",
        "\n",
        "# image = tf.cast(x_train, tf.float32)\n",
        "pred = vgg_model(x_test)\n",
        "loss = keras.losses.categorical_crossentropy(y_test, pred)\n",
        "\n",
        "with tf.GradientTape() as tape:\n",
        "  tape.watch(x_train)\n",
        "\n",
        "\n",
        "adv_config = nsl.configs.AdvNeighborConfig(\n",
        "    feature_mask=None,\n",
        "    adv_step_size=0.02,\n",
        "    adv_grad_norm=\"infinity\",\n",
        "    clip_value_min=0,\n",
        "    clip_value_max=1,\n",
        "    pgd_iterations=50,\n",
        "    pgd_epsilon=episilon_value\n",
        ")\n",
        "\n",
        "adv_attack_1_pgd = nsl.lib.gen_adv_neighbor(x_test,labeled_loss=loss,config=adv_config,raise_invalid_gradient=False, pgd_model_fn=vgg_model, gradient_tape=tape, pgd_loss_fn=keras.losses.categorical_crossentropy,pgd_labels=y_test)\n"
      ]
    },
    {
      "cell_type": "code",
      "execution_count": 26,
      "metadata": {
        "id": "WGs8mkAn9_jj"
      },
      "outputs": [],
      "source": [
        "# print(adv_attack_1_pgd[0][random_list[i]])"
      ]
    },
    {
      "cell_type": "code",
      "execution_count": 27,
      "metadata": {
        "colab": {
          "base_uri": "https://localhost:8080/",
          "height": 177
        },
        "id": "ykohLgy0-x9W",
        "outputId": "848cf4b8-a4e8-460e-c265-3733747c685b"
      },
      "outputs": [
        {
          "output_type": "stream",
          "name": "stdout",
          "text": [
            "PGD attack image with epsilon 0.1\n"
          ]
        },
        {
          "output_type": "display_data",
          "data": {
            "text/plain": [
              "<Figure size 720x504 with 5 Axes>"
            ],
            "image/png": "[encoded data removed]"
          },
          "metadata": {
            "needs_background": "light"
          }
        }
      ],
      "source": [
        "import matplotlib.pyplot as plt\n",
        "import random\n",
        "random_list = random.sample(range(1, 6000), 5)\n",
        "fig = plt.figure(figsize=(10, 7))\n",
        "\n",
        "print(\"PGD attack image with epsilon 0.1\")\n",
        "for i in range(5):\n",
        "  fig.add_subplot(1, 5, i+1)\n",
        "  \n",
        "  trial = adv_attack_1_pgd[0][random_list[i]]\n",
        "\n",
        "  # showing image\n",
        "  plt.imshow(trial[:,:,0])\n",
        "  plt.title(np.argmax(y_test[random_list[i]]))"
      ]
    },
    {
      "cell_type": "code",
      "execution_count": 28,
      "metadata": {
        "colab": {
          "base_uri": "https://localhost:8080/"
        },
        "id": "GRFFsSAB00pi",
        "outputId": "ad2b0d5e-98b3-46ab-c3cf-f3ed9867d435"
      },
      "outputs": [
        {
          "output_type": "stream",
          "name": "stdout",
          "text": [
            "313/313 [==============================] - 119s 381ms/step - loss: 0.5829 - categorical_crossentropy: 0.1165 - categorical_accuracy: 0.9650 - scaled_adversarial_loss: 0.4664\n",
            "PGD model with PGD test with 0.1 epsilon\n",
            "Epsilon: 0.1\n",
            "Test loss: 0.5828976631164551\n",
            "Test accuracy: 0.9649999737739563\n"
          ]
        }
      ],
      "source": [
        "# print(len(x_test))\n",
        "\n",
        "\n",
        "\n",
        "score = adv_model_pgd.evaluate(x={'feature': adv_attack_1_pgd[0], 'label': y_test})\n",
        "print(\"PGD model with PGD test with 0.1 epsilon\")\n",
        "\n",
        "print(\"Epsilon: 0.1\")\n",
        "print(\"Test loss:\", score[0])\n",
        "print(\"Test accuracy:\", score[2])"
      ]
    },
    {
      "cell_type": "code",
      "execution_count": 29,
      "metadata": {
        "id": "d9IuLzQF0pwR"
      },
      "outputs": [],
      "source": [
        "## question d \n",
        "import neural_structured_learning as nsl\n",
        "import tensorflow as tf\n",
        "\n",
        "\n",
        "episilon_value = 0.2\n",
        "\n",
        "# image = tf.cast(x_train, tf.float32)\n",
        "pred = vgg_model(x_test)\n",
        "loss = keras.losses.categorical_crossentropy(y_test, pred)\n",
        "\n",
        "with tf.GradientTape() as tape:\n",
        "  tape.watch(x_train)\n",
        "\n",
        "\n",
        "adv_config = nsl.configs.AdvNeighborConfig(\n",
        "    feature_mask=None,\n",
        "    adv_step_size=0.02,\n",
        "    adv_grad_norm=\"infinity\",\n",
        "    clip_value_min=0,\n",
        "    clip_value_max=1,\n",
        "    pgd_iterations=50,\n",
        "    pgd_epsilon=episilon_value\n",
        ")\n",
        "\n",
        "adv_attack_2_pgd = nsl.lib.gen_adv_neighbor(x_test,labeled_loss=loss,config=adv_config,raise_invalid_gradient=False, pgd_model_fn=vgg_model, gradient_tape=tape, pgd_loss_fn=keras.losses.categorical_crossentropy,pgd_labels=y_test)\n"
      ]
    },
    {
      "cell_type": "code",
      "execution_count": 30,
      "metadata": {
        "colab": {
          "base_uri": "https://localhost:8080/",
          "height": 177
        },
        "id": "RBXzaPd6_DdV",
        "outputId": "7b073e9d-f3e4-467a-e999-b5cd8da397a9"
      },
      "outputs": [
        {
          "output_type": "stream",
          "name": "stdout",
          "text": [
            "PGD attack image with epsilon 0.2\n"
          ]
        },
        {
          "output_type": "display_data",
          "data": {
            "text/plain": [
              "<Figure size 720x504 with 5 Axes>"
            ],
            "image/png": "[encoded data removed]"
          },
          "metadata": {
            "needs_background": "light"
          }
        }
      ],
      "source": [
        "import matplotlib.pyplot as plt\n",
        "import random\n",
        "random_list = random.sample(range(1, 6000), 5)\n",
        "fig = plt.figure(figsize=(10, 7))\n",
        "\n",
        "print(\"PGD attack image with epsilon 0.2\")\n",
        "\n",
        "for i in range(5):\n",
        "  fig.add_subplot(1, 5, i+1)\n",
        "  \n",
        "  trial = adv_attack_2_pgd[0][random_list[i]]\n",
        "\n",
        "  # showing image\n",
        "  plt.imshow(trial[:,:,0])\n",
        "  plt.title(np.argmax(y_test[random_list[i]]))"
      ]
    },
    {
      "cell_type": "code",
      "execution_count": 31,
      "metadata": {
        "colab": {
          "base_uri": "https://localhost:8080/"
        },
        "id": "lr1rhLW41Mxe",
        "outputId": "c95fbdb9-6076-4054-f95b-5929e37134c1"
      },
      "outputs": [
        {
          "output_type": "stream",
          "name": "stdout",
          "text": [
            "313/313 [==============================] - 119s 381ms/step - loss: 1.2785 - categorical_crossentropy: 0.3857 - categorical_accuracy: 0.8870 - scaled_adversarial_loss: 0.8928\n",
            "PGD model with PGD test with 0.2 epsilon\n",
            "Epsilon: 0.2\n",
            "Test loss: 1.2785420417785645\n",
            "Test accuracy: 0.8870000243186951\n"
          ]
        }
      ],
      "source": [
        "# print(len(x_test))\n",
        "\n",
        "\n",
        "\n",
        "score = adv_model_pgd.evaluate(x={'feature': adv_attack_2_pgd[0], 'label': y_test})\n",
        "print(\"PGD model with PGD test with 0.2 epsilon\")\n",
        "\n",
        "print(\"Epsilon: 0.2\")\n",
        "print(\"Test loss:\", score[0])\n",
        "print(\"Test accuracy:\", score[2])"
      ]
    },
    {
      "cell_type": "code",
      "execution_count": 32,
      "metadata": {
        "id": "amu3rZyh1T_J"
      },
      "outputs": [],
      "source": [
        "## question d \n",
        "import neural_structured_learning as nsl\n",
        "import tensorflow as tf\n",
        "\n",
        "\n",
        "episilon_value = 0.5\n",
        "\n",
        "# image = tf.cast(x_train, tf.float32)\n",
        "pred = vgg_model(x_test)\n",
        "loss = keras.losses.categorical_crossentropy(y_test, pred)\n",
        "\n",
        "with tf.GradientTape() as tape:\n",
        "  tape.watch(x_train)\n",
        "\n",
        "\n",
        "adv_config = nsl.configs.AdvNeighborConfig(\n",
        "    feature_mask=None,\n",
        "    adv_step_size=0.02,\n",
        "    adv_grad_norm=\"infinity\",\n",
        "    clip_value_min=0,\n",
        "    clip_value_max=1,\n",
        "    pgd_iterations=50,\n",
        "    pgd_epsilon=episilon_value\n",
        ")\n",
        "\n",
        "adv_attack_5_pgd = nsl.lib.gen_adv_neighbor(x_test,labeled_loss=loss,config=adv_config,raise_invalid_gradient=False, pgd_model_fn=vgg_model, gradient_tape=tape, pgd_loss_fn=keras.losses.categorical_crossentropy,pgd_labels=y_test)\n"
      ]
    },
    {
      "cell_type": "code",
      "execution_count": 33,
      "metadata": {
        "colab": {
          "base_uri": "https://localhost:8080/",
          "height": 177
        },
        "id": "zyRW7ANQ_Ml7",
        "outputId": "bb28a1de-b001-43be-e2db-77bfb50ec76b"
      },
      "outputs": [
        {
          "output_type": "stream",
          "name": "stdout",
          "text": [
            "PGD attack image with epsilon 0.5\n"
          ]
        },
        {
          "output_type": "display_data",
          "data": {
            "text/plain": [
              "<Figure size 720x504 with 5 Axes>"
            ],
            "image/png": "[encoded data removed]"
          },
          "metadata": {
            "needs_background": "light"
          }
        }
      ],
      "source": [
        "import matplotlib.pyplot as plt\n",
        "import random\n",
        "random_list = random.sample(range(1, 6000), 5)\n",
        "fig = plt.figure(figsize=(10, 7))\n",
        "\n",
        "print(\"PGD attack image with epsilon 0.5\")\n",
        "\n",
        "for i in range(5):\n",
        "  fig.add_subplot(1, 5, i+1)\n",
        "  \n",
        "  trial = adv_attack_5_pgd[0][random_list[i]]\n",
        "\n",
        "  # showing image\n",
        "  plt.imshow(trial[:,:,0])\n",
        "  plt.title(np.argmax(y_test[random_list[i]]))"
      ]
    },
    {
      "cell_type": "code",
      "execution_count": 34,
      "metadata": {
        "colab": {
          "base_uri": "https://localhost:8080/"
        },
        "id": "P_UScWm51bVS",
        "outputId": "e5d88e03-2ca3-472f-e914-6a37b678300a"
      },
      "outputs": [
        {
          "output_type": "stream",
          "name": "stdout",
          "text": [
            "313/313 [==============================] - 119s 381ms/step - loss: 6.0335 - categorical_crossentropy: 4.3093 - categorical_accuracy: 0.0087 - scaled_adversarial_loss: 1.7242\n",
            "PGD model with PGD test with 0.5 epsilon\n",
            "Epsilon: 0.5\n",
            "Test loss: 6.03345251083374\n",
            "Test accuracy: 0.008700000122189522\n"
          ]
        }
      ],
      "source": [
        "# print(len(x_test))\n",
        "\n",
        "\n",
        "\n",
        "score = adv_model_pgd.evaluate(x={'feature': adv_attack_5_pgd[0], 'label': y_test})\n",
        "print(\"PGD model with PGD test with 0.5 epsilon\")\n",
        "\n",
        "print(\"Epsilon: 0.5\")\n",
        "print(\"Test loss:\", score[0])\n",
        "print(\"Test accuracy:\", score[2])"
      ]
    },
    {
      "cell_type": "code",
      "execution_count": 35,
      "metadata": {
        "colab": {
          "base_uri": "https://localhost:8080/"
        },
        "id": "gGjKr90M2GN6",
        "outputId": "39b3dfea-1348-4362-cfb1-71010ee94f45"
      },
      "outputs": [
        {
          "output_type": "stream",
          "name": "stdout",
          "text": [
            "VGG model with PGD test with 0.1 epsilon\n",
            "Epsilon: 0.1\n",
            "Test loss: 2.2083096504211426\n",
            "Test accuracy: 0.34130001068115234\n"
          ]
        }
      ],
      "source": [
        "# print(len(x_test))\n",
        "\n",
        "\n",
        "score = vgg_model.evaluate(adv_attack_1_pgd[0], y_test, verbose=0)\n",
        "\n",
        "print(\"VGG model with PGD test with 0.1 epsilon\")\n",
        "\n",
        "print(\"Epsilon: 0.1\")\n",
        "print(\"Test loss:\", score[0])\n",
        "print(\"Test accuracy:\", score[1])"
      ]
    },
    {
      "cell_type": "code",
      "execution_count": 36,
      "metadata": {
        "colab": {
          "base_uri": "https://localhost:8080/"
        },
        "id": "PVDs7Yxx2GV-",
        "outputId": "76b1ab79-f15b-493f-a06f-6b2a7d24e8b3"
      },
      "outputs": [
        {
          "output_type": "stream",
          "name": "stdout",
          "text": [
            "VGG model with PGD test with 0.2 epsilon\n",
            "Epsilon: 0.2\n",
            "Test loss: 7.314349174499512\n",
            "Test accuracy: 0.005400000140070915\n"
          ]
        }
      ],
      "source": [
        "# print(len(x_test))\n",
        "\n",
        "score = vgg_model.evaluate(adv_attack_2_pgd[0], y_test, verbose=0)\n",
        "\n",
        "\n",
        "print(\"VGG model with PGD test with 0.2 epsilon\")\n",
        "\n",
        "print(\"Epsilon: 0.2\")\n",
        "print(\"Test loss:\", score[0])\n",
        "print(\"Test accuracy:\", score[1])"
      ]
    },
    {
      "cell_type": "code",
      "execution_count": 37,
      "metadata": {
        "colab": {
          "base_uri": "https://localhost:8080/"
        },
        "id": "AZ87irx319-O",
        "outputId": "58f87deb-18db-4ef5-ad37-23ca418896cd"
      },
      "outputs": [
        {
          "output_type": "stream",
          "name": "stdout",
          "text": [
            "VGG model with PGD test with 0.5 epsilon\n",
            "Epsilon: 0.5\n",
            "Test loss: 18.523096084594727\n",
            "Test accuracy: 0.0\n"
          ]
        }
      ],
      "source": [
        "# print(len(x_test))\n",
        "\n",
        "\n",
        "score = vgg_model.evaluate(adv_attack_5_pgd[0], y_test, verbose=0)\n",
        "\n",
        "print(\"VGG model with PGD test with 0.5 epsilon\")\n",
        "\n",
        "print(\"Epsilon: 0.5\")\n",
        "print(\"Test loss:\", score[0])\n",
        "print(\"Test accuracy:\", score[1])"
      ]
    },
    {
      "cell_type": "code",
      "execution_count": 38,
      "metadata": {
        "colab": {
          "base_uri": "https://localhost:8080/"
        },
        "id": "AMRFUcDm2WQ0",
        "outputId": "f5f63ba9-a492-44cf-b840-6e66be19c886"
      },
      "outputs": [
        {
          "output_type": "stream",
          "name": "stdout",
          "text": [
            "313/313 [==============================] - 4s 14ms/step - loss: 0.9140 - categorical_crossentropy: 0.2646 - categorical_accuracy: 0.9162 - scaled_adversarial_loss: 0.6494\n",
            "0.2 epsilon FGSM model with PGD test with 0.1 epsilon\n",
            "Epsilon: 0.1\n",
            "Test loss: 0.9140178561210632\n",
            "Test accuracy: 0.9161999821662903\n"
          ]
        }
      ],
      "source": [
        "score =  adv_model_2.evaluate(x={'feature': adv_attack_1_pgd[0], 'label': y_test})\n",
        "\n",
        "print(\"0.2 epsilon FGSM model with PGD test with 0.1 epsilon\")\n",
        "\n",
        "print(\"Epsilon: 0.1\")\n",
        "print(\"Test loss:\", score[0])\n",
        "print(\"Test accuracy:\", score[2])"
      ]
    },
    {
      "cell_type": "code",
      "execution_count": 39,
      "metadata": {
        "colab": {
          "base_uri": "https://localhost:8080/"
        },
        "id": "06C1yIfT2WX3",
        "outputId": "0553f1d9-8d17-4b53-ce51-bc05b6a27a34"
      },
      "outputs": [
        {
          "output_type": "stream",
          "name": "stdout",
          "text": [
            "313/313 [==============================] - 4s 14ms/step - loss: 2.0172 - categorical_crossentropy: 1.1993 - categorical_accuracy: 0.5977 - scaled_adversarial_loss: 0.8179\n",
            "0.2 FGSM model with PGD test with 0.2 epsilon\n",
            "Epsilon: 0.2\n",
            "Test loss: 2.017171859741211\n",
            "Test accuracy: 0.5976999998092651\n"
          ]
        }
      ],
      "source": [
        "score =  adv_model_2.evaluate(x={'feature': adv_attack_2_pgd[0], 'label': y_test})\n",
        "\n",
        "print(\"0.2 FGSM model with PGD test with 0.2 epsilon\")\n",
        "\n",
        "print(\"Epsilon: 0.2\")\n",
        "print(\"Test loss:\", score[0])\n",
        "print(\"Test accuracy:\", score[2])"
      ]
    },
    {
      "cell_type": "code",
      "execution_count": 40,
      "metadata": {
        "colab": {
          "base_uri": "https://localhost:8080/"
        },
        "id": "YisGI0Vs2Wdx",
        "outputId": "69f477b5-7cd5-434f-878a-70a52e3e3ff0"
      },
      "outputs": [
        {
          "output_type": "stream",
          "name": "stdout",
          "text": [
            "313/313 [==============================] - 5s 14ms/step - loss: 5.5056 - categorical_crossentropy: 3.9904 - categorical_accuracy: 0.0436 - scaled_adversarial_loss: 1.5152\n",
            "0.2 FGSM model with PGD test with 0.5 epsilon\n",
            "Epsilon: 0.5\n",
            "Test loss: 5.505611896514893\n",
            "Test accuracy: 0.04360000044107437\n"
          ]
        }
      ],
      "source": [
        "score =  adv_model_2.evaluate(x={'feature': adv_attack_5_pgd[0], 'label': y_test})\n",
        "\n",
        "print(\"0.2 FGSM model with PGD test with 0.5 epsilon\")\n",
        "\n",
        "print(\"Epsilon: 0.5\")\n",
        "print(\"Test loss:\", score[0])\n",
        "print(\"Test accuracy:\", score[2])"
      ]
    },
    {
      "cell_type": "code",
      "execution_count": 40,
      "metadata": {
        "id": "CZf9uYNb5o06"
      },
      "outputs": [],
      "source": [
        ""
      ]
    },
    {
      "cell_type": "code",
      "execution_count": 40,
      "metadata": {
        "id": "YlSCsxxn5o_2"
      },
      "outputs": [],
      "source": [
        ""
      ]
    },
    {
      "cell_type": "code",
      "execution_count": 40,
      "metadata": {
        "id": "XywVHCbD5pHg"
      },
      "outputs": [],
      "source": [
        ""
      ]
    },
    {
      "cell_type": "code",
      "execution_count": 40,
      "metadata": {
        "id": "9oqmFGPK0p3J"
      },
      "outputs": [],
      "source": [
        ""
      ]
    }
  ],
  "metadata": {
    "accelerator": "GPU",
    "colab": {
      "collapsed_sections": [],
      "name": "a5q2.ipynb",
      "provenance": []
    },
    "gpuClass": "standard",
    "kernelspec": {
      "display_name": "Python 3",
      "name": "python3"
    },
    "language_info": {
      "name": "python"
    }
  },
  "nbformat": 4,
  "nbformat_minor": 0
}